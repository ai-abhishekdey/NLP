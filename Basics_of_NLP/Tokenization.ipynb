{
 "cells": [
  {
   "cell_type": "markdown",
   "id": "fd937e6d",
   "metadata": {},
   "source": [
    "## Tokenization Example\n",
    "\n",
    "**Author: Abhishek Dey**\n",
    "**Date: June 16, 2024**"
   ]
  },
  {
   "cell_type": "markdown",
   "id": "f4220739",
   "metadata": {},
   "source": [
    "## Defination:\n",
    "\n",
    "Tokenization is the process of breaking down a text into smaller parts caller tokens\n",
    "\n",
    "- **Sentence tokenizer :** Breaks paragraph into sentences\n",
    "- **Word tokenizer :** Breaks sentence into words"
   ]
  },
  {
   "cell_type": "markdown",
   "id": "be057093",
   "metadata": {},
   "source": [
    "### Import NLTK Library"
   ]
  },
  {
   "cell_type": "code",
   "execution_count": 1,
   "id": "da50df67",
   "metadata": {},
   "outputs": [
    {
     "name": "stderr",
     "output_type": "stream",
     "text": [
      "[nltk_data] Downloading package punkt to /home/abhishek/nltk_data...\n",
      "[nltk_data]   Package punkt is already up-to-date!\n"
     ]
    },
    {
     "data": {
      "text/plain": [
       "True"
      ]
     },
     "execution_count": 1,
     "metadata": {},
     "output_type": "execute_result"
    }
   ],
   "source": [
    "import nltk\n",
    "nltk.download('punkt')"
   ]
  },
  {
   "cell_type": "code",
   "execution_count": 2,
   "id": "ff4add03",
   "metadata": {},
   "outputs": [],
   "source": [
    "from nltk.tokenize import sent_tokenize, word_tokenize"
   ]
  },
  {
   "cell_type": "markdown",
   "id": "50451854",
   "metadata": {},
   "source": [
    "### Define Corpus / Paragraph"
   ]
  },
  {
   "cell_type": "code",
   "execution_count": 3,
   "id": "4fe55ea5",
   "metadata": {},
   "outputs": [],
   "source": [
    "corpus=\"Hello World ! Welcome to Natural Language Processing Learning. Happy Learning.\""
   ]
  },
  {
   "cell_type": "code",
   "execution_count": 4,
   "id": "505cf271",
   "metadata": {},
   "outputs": [
    {
     "name": "stdout",
     "output_type": "stream",
     "text": [
      "Hello World ! Welcome to Natural Language Processing Learning. Happy Learning.\n"
     ]
    }
   ],
   "source": [
    "print(corpus)"
   ]
  },
  {
   "cell_type": "markdown",
   "id": "968000f2",
   "metadata": {},
   "source": [
    "### Tokenize corpus/paragraph to sentences"
   ]
  },
  {
   "cell_type": "code",
   "execution_count": 5,
   "id": "acc8169f",
   "metadata": {},
   "outputs": [
    {
     "data": {
      "text/plain": [
       "['Hello World !',\n",
       " 'Welcome to Natural Language Processing Learning.',\n",
       " 'Happy Learning.']"
      ]
     },
     "execution_count": 5,
     "metadata": {},
     "output_type": "execute_result"
    }
   ],
   "source": [
    "sent_tokenize(corpus)"
   ]
  },
  {
   "cell_type": "code",
   "execution_count": 6,
   "id": "f53eb4be",
   "metadata": {},
   "outputs": [],
   "source": [
    "sentences=sent_tokenize(corpus)"
   ]
  },
  {
   "cell_type": "code",
   "execution_count": 7,
   "id": "5e8bb63f",
   "metadata": {},
   "outputs": [
    {
     "name": "stdout",
     "output_type": "stream",
     "text": [
      "Hello World !\n",
      "Welcome to Natural Language Processing Learning.\n",
      "Happy Learning.\n"
     ]
    }
   ],
   "source": [
    "for sentence in sentences:\n",
    "    print(sentence)"
   ]
  },
  {
   "cell_type": "markdown",
   "id": "d62d2491",
   "metadata": {},
   "source": [
    "### Tokenize sentence into words"
   ]
  },
  {
   "cell_type": "code",
   "execution_count": 8,
   "id": "b12e7161",
   "metadata": {},
   "outputs": [],
   "source": [
    "words=word_tokenize(corpus)"
   ]
  },
  {
   "cell_type": "code",
   "execution_count": 9,
   "id": "b7742d0b",
   "metadata": {},
   "outputs": [
    {
     "name": "stdout",
     "output_type": "stream",
     "text": [
      "['Hello', 'World', '!', 'Welcome', 'to', 'Natural', 'Language', 'Processing', 'Learning', '.', 'Happy', 'Learning', '.']\n"
     ]
    }
   ],
   "source": [
    "print(words)"
   ]
  },
  {
   "cell_type": "code",
   "execution_count": 10,
   "id": "af5af12b",
   "metadata": {},
   "outputs": [
    {
     "name": "stdout",
     "output_type": "stream",
     "text": [
      "======================\n",
      "sent ->  Hello World !\n",
      "words ->  ['Hello', 'World', '!']\n",
      "======================\n",
      "sent ->  Welcome to Natural Language Processing Learning.\n",
      "words ->  ['Welcome', 'to', 'Natural', 'Language', 'Processing', 'Learning', '.']\n",
      "======================\n",
      "sent ->  Happy Learning.\n",
      "words ->  ['Happy', 'Learning', '.']\n"
     ]
    }
   ],
   "source": [
    "for sentence in sentences:\n",
    "    \n",
    "    words_in_sent = word_tokenize(sentence)\n",
    "    \n",
    "    print(\"======================\")\n",
    "    print(\"sent -> \",sentence)\n",
    "    print(\"words -> \",words_in_sent)"
   ]
  },
  {
   "cell_type": "code",
   "execution_count": null,
   "id": "49c44a30",
   "metadata": {},
   "outputs": [],
   "source": []
  }
 ],
 "metadata": {
  "kernelspec": {
   "display_name": "Python 3 (ipykernel)",
   "language": "python",
   "name": "python3"
  },
  "language_info": {
   "codemirror_mode": {
    "name": "ipython",
    "version": 3
   },
   "file_extension": ".py",
   "mimetype": "text/x-python",
   "name": "python",
   "nbconvert_exporter": "python",
   "pygments_lexer": "ipython3",
   "version": "3.10.12"
  }
 },
 "nbformat": 4,
 "nbformat_minor": 5
}
