{
 "cells": [
  {
   "cell_type": "markdown",
   "id": "7edbca90",
   "metadata": {},
   "source": [
    "## Stemming and Lemmatization\n",
    "\n",
    "**Author: Abhishek Dey**\n",
    "\n",
    "**Date: June 16, 2024**"
   ]
  },
  {
   "cell_type": "markdown",
   "id": "1bd18707",
   "metadata": {},
   "source": [
    "## Defination:\n",
    "\n",
    "Stemming and Lemmatization are two important pre-processing techniques in NLP for reducing the word into it's base or root form. The purpose of stemming and Lemmatization is to reduce the dimentionality of text data.\n",
    "\n"
   ]
  },
  {
   "cell_type": "markdown",
   "id": "dc7a1058",
   "metadata": {},
   "source": [
    "## Stemming:\n",
    "\n",
    "- In Stemming, the word is reduced to it's base form (stem) by removing suffixes and prefixes considering some pre-defined set of rules. **The resulting stem may not be a valid word**. It's simple and **faster** compared to lemmatization\n",
    "\n",
    "- Popular stemming algos: **Porter Stemmer, Snowball Stemmer**"
   ]
  },
  {
   "cell_type": "markdown",
   "id": "9d083f7c",
   "metadata": {},
   "source": [
    "## Lemmatization:\n",
    "\n",
    "- In Lemmatization, the word is reduced to its base form (lemma) considering the word's meaning and contextual information. **The resulting lemma is a valid word that can be found in a dictionary**. It's more **accurate** than stemming but relatively **slower**.\n",
    "\n",
    "- Popular Lemmatization algo: **WordNet Lemmatizer**"
   ]
  },
  {
   "cell_type": "markdown",
   "id": "5d8136f8",
   "metadata": {},
   "source": [
    "### Import library"
   ]
  },
  {
   "cell_type": "code",
   "execution_count": 1,
   "id": "7d6ad80e",
   "metadata": {},
   "outputs": [
    {
     "name": "stderr",
     "output_type": "stream",
     "text": [
      "[nltk_data] Downloading package punkt to /home/abhishek/nltk_data...\n",
      "[nltk_data]   Package punkt is already up-to-date!\n",
      "[nltk_data] Downloading package wordnet to /home/abhishek/nltk_data...\n",
      "[nltk_data]   Package wordnet is already up-to-date!\n"
     ]
    },
    {
     "data": {
      "text/plain": [
       "True"
      ]
     },
     "execution_count": 1,
     "metadata": {},
     "output_type": "execute_result"
    }
   ],
   "source": [
    "import nltk\n",
    "nltk.download('punkt')\n",
    "nltk.download('wordnet')"
   ]
  },
  {
   "cell_type": "code",
   "execution_count": 2,
   "id": "de74841c",
   "metadata": {},
   "outputs": [],
   "source": [
    "from nltk.stem import PorterStemmer, SnowballStemmer, WordNetLemmatizer"
   ]
  },
  {
   "cell_type": "markdown",
   "id": "57963d08",
   "metadata": {},
   "source": [
    "### Words"
   ]
  },
  {
   "cell_type": "code",
   "execution_count": 3,
   "id": "1585e37b",
   "metadata": {},
   "outputs": [],
   "source": [
    "words=['going', 'goes', 'history', 'congratulations', 'fairly', 'eating', 'eats', 'eaten', 'finalized', 'finally', 'programming', 'sportingly']"
   ]
  },
  {
   "cell_type": "code",
   "execution_count": 4,
   "id": "6b392a79",
   "metadata": {},
   "outputs": [
    {
     "name": "stdout",
     "output_type": "stream",
     "text": [
      "['going', 'goes', 'history', 'congratulations', 'fairly', 'eating', 'eats', 'eaten', 'finalized', 'finally', 'programming', 'sportingly']\n"
     ]
    }
   ],
   "source": [
    "print(words)"
   ]
  },
  {
   "cell_type": "markdown",
   "id": "653f0b60",
   "metadata": {},
   "source": [
    "### Intialize objects"
   ]
  },
  {
   "cell_type": "code",
   "execution_count": 5,
   "id": "4e1ab36d",
   "metadata": {},
   "outputs": [],
   "source": [
    "porter_stemmer=PorterStemmer()\n",
    "snowball_stemmer=SnowballStemmer('english')\n",
    "wordnet_lemmatizer=WordNetLemmatizer()"
   ]
  },
  {
   "cell_type": "markdown",
   "id": "2f3056de",
   "metadata": {},
   "source": [
    "### NOTE: For WordNet Lemmatizerm, Parts of speech (POS) tag is required as argument\n",
    " \n",
    "- Noun (n)\n",
    "- Verb (v)\n",
    "- Adjective (a)\n",
    "- Adverb (r)\n"
   ]
  },
  {
   "cell_type": "markdown",
   "id": "b1a12d1c",
   "metadata": {},
   "source": [
    "### Comparing Porter Stemmer, Snowball Stemmer and WordNet Lemmatizer"
   ]
  },
  {
   "cell_type": "code",
   "execution_count": 6,
   "id": "a04611ae",
   "metadata": {},
   "outputs": [
    {
     "name": "stdout",
     "output_type": "stream",
     "text": [
      "======================================\n",
      "Input word :  going\n",
      "stem (porter_stemmer) :  go\n",
      "stem (snowball_stemmer) :  go\n",
      "Lemma (Wordnet Lemmatizer) :  go\n",
      "======================================\n",
      "Input word :  goes\n",
      "stem (porter_stemmer) :  goe\n",
      "stem (snowball_stemmer) :  goe\n",
      "Lemma (Wordnet Lemmatizer) :  go\n",
      "======================================\n",
      "Input word :  history\n",
      "stem (porter_stemmer) :  histori\n",
      "stem (snowball_stemmer) :  histori\n",
      "Lemma (Wordnet Lemmatizer) :  history\n",
      "======================================\n",
      "Input word :  congratulations\n",
      "stem (porter_stemmer) :  congratul\n",
      "stem (snowball_stemmer) :  congratul\n",
      "Lemma (Wordnet Lemmatizer) :  congratulations\n",
      "======================================\n",
      "Input word :  fairly\n",
      "stem (porter_stemmer) :  fairli\n",
      "stem (snowball_stemmer) :  fair\n",
      "Lemma (Wordnet Lemmatizer) :  fairly\n",
      "======================================\n",
      "Input word :  eating\n",
      "stem (porter_stemmer) :  eat\n",
      "stem (snowball_stemmer) :  eat\n",
      "Lemma (Wordnet Lemmatizer) :  eat\n",
      "======================================\n",
      "Input word :  eats\n",
      "stem (porter_stemmer) :  eat\n",
      "stem (snowball_stemmer) :  eat\n",
      "Lemma (Wordnet Lemmatizer) :  eat\n",
      "======================================\n",
      "Input word :  eaten\n",
      "stem (porter_stemmer) :  eaten\n",
      "stem (snowball_stemmer) :  eaten\n",
      "Lemma (Wordnet Lemmatizer) :  eat\n",
      "======================================\n",
      "Input word :  finalized\n",
      "stem (porter_stemmer) :  final\n",
      "stem (snowball_stemmer) :  final\n",
      "Lemma (Wordnet Lemmatizer) :  finalize\n",
      "======================================\n",
      "Input word :  finally\n",
      "stem (porter_stemmer) :  final\n",
      "stem (snowball_stemmer) :  final\n",
      "Lemma (Wordnet Lemmatizer) :  finally\n",
      "======================================\n",
      "Input word :  programming\n",
      "stem (porter_stemmer) :  program\n",
      "stem (snowball_stemmer) :  program\n",
      "Lemma (Wordnet Lemmatizer) :  program\n",
      "======================================\n",
      "Input word :  sportingly\n",
      "stem (porter_stemmer) :  sportingli\n",
      "stem (snowball_stemmer) :  sport\n",
      "Lemma (Wordnet Lemmatizer) :  sportingly\n"
     ]
    }
   ],
   "source": [
    "for word in words:\n",
    "    \n",
    "    print(\"======================================\")\n",
    "    print(\"Input word : \", word)\n",
    "    print(\"stem (porter_stemmer) : \", porter_stemmer.stem(word))\n",
    "    print(\"stem (snowball_stemmer) : \", snowball_stemmer.stem(word))\n",
    "    print(\"Lemma (Wordnet Lemmatizer) : \", wordnet_lemmatizer.lemmatize(word,pos='v'))"
   ]
  },
  {
   "cell_type": "code",
   "execution_count": null,
   "id": "3bbebbee",
   "metadata": {},
   "outputs": [],
   "source": []
  }
 ],
 "metadata": {
  "kernelspec": {
   "display_name": "Python 3 (ipykernel)",
   "language": "python",
   "name": "python3"
  },
  "language_info": {
   "codemirror_mode": {
    "name": "ipython",
    "version": 3
   },
   "file_extension": ".py",
   "mimetype": "text/x-python",
   "name": "python",
   "nbconvert_exporter": "python",
   "pygments_lexer": "ipython3",
   "version": "3.10.12"
  }
 },
 "nbformat": 4,
 "nbformat_minor": 5
}
