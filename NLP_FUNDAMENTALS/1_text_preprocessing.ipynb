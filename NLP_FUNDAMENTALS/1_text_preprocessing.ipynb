{
 "cells": [
  {
   "cell_type": "markdown",
   "id": "04ff10e4",
   "metadata": {},
   "source": [
    "## Text preprocessing using Textacy Library\n",
    "\n",
    "\n",
    "**Author: Abhishek Dey**\n",
    "\n",
    "\n",
    "**Documentation Link: https://textacy.readthedocs.io/en/latest/api_reference/preprocessing.html** "
   ]
  },
  {
   "cell_type": "markdown",
   "id": "43a3c078",
   "metadata": {},
   "source": [
    "## Installation"
   ]
  },
  {
   "cell_type": "code",
   "execution_count": 1,
   "id": "3e6a2d98",
   "metadata": {},
   "outputs": [
    {
     "name": "stdout",
     "output_type": "stream",
     "text": [
      "Defaulting to user installation because normal site-packages is not writeable\n",
      "Requirement already satisfied: textacy in /home/abhishek/.local/lib/python3.10/site-packages (0.13.0)\n",
      "Requirement already satisfied: cachetools>=4.0.0 in /home/abhishek/.local/lib/python3.10/site-packages (from textacy) (5.3.1)\n",
      "Requirement already satisfied: catalogue~=2.0 in /home/abhishek/.local/lib/python3.10/site-packages (from textacy) (2.0.10)\n",
      "Requirement already satisfied: cytoolz>=0.10.1 in /home/abhishek/.local/lib/python3.10/site-packages (from textacy) (1.0.1)\n",
      "Requirement already satisfied: floret~=0.10.0 in /home/abhishek/.local/lib/python3.10/site-packages (from textacy) (0.10.5)\n",
      "Requirement already satisfied: jellyfish>=0.8.0 in /home/abhishek/.local/lib/python3.10/site-packages (from textacy) (1.2.0)\n",
      "Requirement already satisfied: joblib>=0.13.0 in /home/abhishek/.local/lib/python3.10/site-packages (from textacy) (1.4.2)\n",
      "Requirement already satisfied: networkx>=2.7 in /usr/local/lib/python3.10/dist-packages (from textacy) (3.1)\n",
      "Requirement already satisfied: numpy>=1.17.0 in /home/abhishek/.local/lib/python3.10/site-packages (from textacy) (1.26.4)\n",
      "Requirement already satisfied: pyphen>=0.10.0 in /home/abhishek/.local/lib/python3.10/site-packages (from textacy) (0.17.2)\n",
      "Requirement already satisfied: requests>=2.10.0 in /home/abhishek/.local/lib/python3.10/site-packages (from textacy) (2.32.3)\n",
      "Requirement already satisfied: scipy>=1.8.0 in /home/abhishek/.local/lib/python3.10/site-packages (from textacy) (1.12.0)\n",
      "Requirement already satisfied: scikit-learn>=1.0 in /home/abhishek/.local/lib/python3.10/site-packages (from textacy) (1.5.2)\n",
      "Requirement already satisfied: spacy~=3.0 in /home/abhishek/.local/lib/python3.10/site-packages (from textacy) (3.8.5)\n",
      "Requirement already satisfied: tqdm>=4.19.6 in /home/abhishek/.local/lib/python3.10/site-packages (from textacy) (4.67.1)\n",
      "Requirement already satisfied: toolz>=0.8.0 in /home/abhishek/.local/lib/python3.10/site-packages (from cytoolz>=0.10.1->textacy) (1.0.0)\n",
      "Requirement already satisfied: charset-normalizer<4,>=2 in /home/abhishek/.local/lib/python3.10/site-packages (from requests>=2.10.0->textacy) (2.1.1)\n",
      "Requirement already satisfied: idna<4,>=2.5 in /home/abhishek/.local/lib/python3.10/site-packages (from requests>=2.10.0->textacy) (3.7)\n",
      "Requirement already satisfied: urllib3<3,>=1.21.1 in /home/abhishek/.local/lib/python3.10/site-packages (from requests>=2.10.0->textacy) (1.26.20)\n",
      "Requirement already satisfied: certifi>=2017.4.17 in /home/abhishek/.local/lib/python3.10/site-packages (from requests>=2.10.0->textacy) (2024.7.4)\n",
      "Requirement already satisfied: threadpoolctl>=3.1.0 in /home/abhishek/.local/lib/python3.10/site-packages (from scikit-learn>=1.0->textacy) (3.2.0)\n",
      "Requirement already satisfied: spacy-legacy<3.1.0,>=3.0.11 in /home/abhishek/.local/lib/python3.10/site-packages (from spacy~=3.0->textacy) (3.0.12)\n",
      "Requirement already satisfied: spacy-loggers<2.0.0,>=1.0.0 in /home/abhishek/.local/lib/python3.10/site-packages (from spacy~=3.0->textacy) (1.0.5)\n",
      "Requirement already satisfied: murmurhash<1.1.0,>=0.28.0 in /home/abhishek/.local/lib/python3.10/site-packages (from spacy~=3.0->textacy) (1.0.12)\n",
      "Requirement already satisfied: cymem<2.1.0,>=2.0.2 in /home/abhishek/.local/lib/python3.10/site-packages (from spacy~=3.0->textacy) (2.0.11)\n",
      "Requirement already satisfied: preshed<3.1.0,>=3.0.2 in /home/abhishek/.local/lib/python3.10/site-packages (from spacy~=3.0->textacy) (3.0.9)\n",
      "Requirement already satisfied: thinc<8.4.0,>=8.3.4 in /home/abhishek/.local/lib/python3.10/site-packages (from spacy~=3.0->textacy) (8.3.4)\n",
      "Requirement already satisfied: wasabi<1.2.0,>=0.9.1 in /home/abhishek/.local/lib/python3.10/site-packages (from spacy~=3.0->textacy) (1.1.3)\n",
      "Requirement already satisfied: srsly<3.0.0,>=2.4.3 in /home/abhishek/.local/lib/python3.10/site-packages (from spacy~=3.0->textacy) (2.5.1)\n",
      "Requirement already satisfied: weasel<0.5.0,>=0.1.0 in /home/abhishek/.local/lib/python3.10/site-packages (from spacy~=3.0->textacy) (0.4.1)\n",
      "Requirement already satisfied: typer<1.0.0,>=0.3.0 in /home/abhishek/.local/lib/python3.10/site-packages (from spacy~=3.0->textacy) (0.12.5)\n",
      "Requirement already satisfied: pydantic!=1.8,!=1.8.1,<3.0.0,>=1.7.4 in /home/abhishek/.local/lib/python3.10/site-packages (from spacy~=3.0->textacy) (2.10.6)\n",
      "Requirement already satisfied: jinja2 in /home/abhishek/.local/lib/python3.10/site-packages (from spacy~=3.0->textacy) (3.1.2)\n",
      "Requirement already satisfied: setuptools in /home/abhishek/.local/lib/python3.10/site-packages (from spacy~=3.0->textacy) (75.6.0)\n",
      "Requirement already satisfied: packaging>=20.0 in /home/abhishek/.local/lib/python3.10/site-packages (from spacy~=3.0->textacy) (24.1)\n",
      "Requirement already satisfied: langcodes<4.0.0,>=3.2.0 in /home/abhishek/.local/lib/python3.10/site-packages (from spacy~=3.0->textacy) (3.5.0)\n",
      "Requirement already satisfied: language-data>=1.2 in /home/abhishek/.local/lib/python3.10/site-packages (from langcodes<4.0.0,>=3.2.0->spacy~=3.0->textacy) (1.3.0)\n",
      "Requirement already satisfied: annotated-types>=0.6.0 in /home/abhishek/.local/lib/python3.10/site-packages (from pydantic!=1.8,!=1.8.1,<3.0.0,>=1.7.4->spacy~=3.0->textacy) (0.6.0)\n",
      "Requirement already satisfied: pydantic-core==2.27.2 in /home/abhishek/.local/lib/python3.10/site-packages (from pydantic!=1.8,!=1.8.1,<3.0.0,>=1.7.4->spacy~=3.0->textacy) (2.27.2)\n",
      "Requirement already satisfied: typing-extensions>=4.12.2 in /home/abhishek/.local/lib/python3.10/site-packages (from pydantic!=1.8,!=1.8.1,<3.0.0,>=1.7.4->spacy~=3.0->textacy) (4.12.2)\n",
      "Requirement already satisfied: blis<1.3.0,>=1.2.0 in /home/abhishek/.local/lib/python3.10/site-packages (from thinc<8.4.0,>=8.3.4->spacy~=3.0->textacy) (1.2.1)\n",
      "Requirement already satisfied: confection<1.0.0,>=0.0.1 in /home/abhishek/.local/lib/python3.10/site-packages (from thinc<8.4.0,>=8.3.4->spacy~=3.0->textacy) (0.1.5)\n",
      "Requirement already satisfied: click>=8.0.0 in /home/abhishek/.local/lib/python3.10/site-packages (from typer<1.0.0,>=0.3.0->spacy~=3.0->textacy) (8.1.7)\n",
      "Requirement already satisfied: shellingham>=1.3.0 in /home/abhishek/.local/lib/python3.10/site-packages (from typer<1.0.0,>=0.3.0->spacy~=3.0->textacy) (1.5.4)\n",
      "Requirement already satisfied: rich>=10.11.0 in /home/abhishek/.local/lib/python3.10/site-packages (from typer<1.0.0,>=0.3.0->spacy~=3.0->textacy) (13.9.4)\n",
      "Requirement already satisfied: cloudpathlib<1.0.0,>=0.7.0 in /home/abhishek/.local/lib/python3.10/site-packages (from weasel<0.5.0,>=0.1.0->spacy~=3.0->textacy) (0.21.0)\n",
      "Requirement already satisfied: smart-open<8.0.0,>=5.2.1 in /home/abhishek/.local/lib/python3.10/site-packages (from weasel<0.5.0,>=0.1.0->spacy~=3.0->textacy) (7.0.5)\n",
      "Requirement already satisfied: MarkupSafe>=2.0 in /home/abhishek/.local/lib/python3.10/site-packages (from jinja2->spacy~=3.0->textacy) (2.1.3)\n",
      "Requirement already satisfied: marisa-trie>=1.1.0 in /home/abhishek/.local/lib/python3.10/site-packages (from language-data>=1.2->langcodes<4.0.0,>=3.2.0->spacy~=3.0->textacy) (1.2.1)\n",
      "Requirement already satisfied: markdown-it-py>=2.2.0 in /home/abhishek/.local/lib/python3.10/site-packages (from rich>=10.11.0->typer<1.0.0,>=0.3.0->spacy~=3.0->textacy) (2.2.0)\n",
      "Requirement already satisfied: pygments<3.0.0,>=2.13.0 in /home/abhishek/.local/lib/python3.10/site-packages (from rich>=10.11.0->typer<1.0.0,>=0.3.0->spacy~=3.0->textacy) (2.15.1)\n",
      "Requirement already satisfied: wrapt in /home/abhishek/.local/lib/python3.10/site-packages (from smart-open<8.0.0,>=5.2.1->weasel<0.5.0,>=0.1.0->spacy~=3.0->textacy) (1.14.1)\n",
      "Requirement already satisfied: mdurl~=0.1 in /home/abhishek/.local/lib/python3.10/site-packages (from markdown-it-py>=2.2.0->rich>=10.11.0->typer<1.0.0,>=0.3.0->spacy~=3.0->textacy) (0.1.2)\n",
      "\u001b[33mWARNING: Error parsing dependencies of textract: .* suffix can only be used with `==` or `!=` operators\n",
      "    extract-msg (<=0.29.*)\n",
      "                 ~~~~~~~^\u001b[0m\u001b[33m\n",
      "\u001b[0m\n",
      "\u001b[1m[\u001b[0m\u001b[34;49mnotice\u001b[0m\u001b[1;39;49m]\u001b[0m\u001b[39;49m A new release of pip is available: \u001b[0m\u001b[31;49m25.0\u001b[0m\u001b[39;49m -> \u001b[0m\u001b[32;49m25.0.1\u001b[0m\n",
      "\u001b[1m[\u001b[0m\u001b[34;49mnotice\u001b[0m\u001b[1;39;49m]\u001b[0m\u001b[39;49m To update, run: \u001b[0m\u001b[32;49mpython3 -m pip install --upgrade pip\u001b[0m\n"
     ]
    }
   ],
   "source": [
    "!pip3 install textacy"
   ]
  },
  {
   "cell_type": "markdown",
   "id": "25939550",
   "metadata": {},
   "source": [
    "## Documents"
   ]
  },
  {
   "cell_type": "code",
   "execution_count": 2,
   "id": "c7a595bd",
   "metadata": {},
   "outputs": [],
   "source": [
    "d1=\"The sun rises in  the 'East'.\"\n",
    "d2=\"Hello World ! ### !$ ...\"\n",
    "d3=\"Contact me : E-Mail Id: xyz@gmail.com, Webiste: 'https:\\\\www.google.com', Mob: 9435478273\"\n",
    "d4=\"<!DOCTYPE> M.S Dhoni is the captain of Chennai Super Kings. #Whistle-podu\""
   ]
  },
  {
   "cell_type": "markdown",
   "id": "f8a6b6d8",
   "metadata": {},
   "source": [
    "## Corpus"
   ]
  },
  {
   "cell_type": "code",
   "execution_count": 3,
   "id": "dd01a24d",
   "metadata": {},
   "outputs": [],
   "source": [
    "corpus=[d1,d2,d3,d4]"
   ]
  },
  {
   "cell_type": "code",
   "execution_count": 4,
   "id": "020b100b",
   "metadata": {},
   "outputs": [
    {
     "data": {
      "text/plain": [
       "[\"The sun rises in  the 'East'.\",\n",
       " 'Hello World ! ### !$ ...',\n",
       " \"Contact me : E-Mail Id: xyz@gmail.com, Webiste: 'https:\\\\www.google.com', Mob: 9435478273\",\n",
       " '<!DOCTYPE> M.S Dhoni is the captain of Chennai Super Kings. #Whistle-podu']"
      ]
     },
     "execution_count": 4,
     "metadata": {},
     "output_type": "execute_result"
    }
   ],
   "source": [
    "corpus"
   ]
  },
  {
   "cell_type": "markdown",
   "id": "b3ac8724",
   "metadata": {},
   "source": [
    "## Text preprocessing:"
   ]
  },
  {
   "cell_type": "code",
   "execution_count": 5,
   "id": "8a4e4a08",
   "metadata": {},
   "outputs": [],
   "source": [
    "from textacy import preprocessing as tp"
   ]
  },
  {
   "cell_type": "markdown",
   "id": "5a9ff43a",
   "metadata": {},
   "source": [
    "## Remove punctuation"
   ]
  },
  {
   "cell_type": "code",
   "execution_count": 6,
   "id": "e6ed0574",
   "metadata": {},
   "outputs": [
    {
     "name": "stdout",
     "output_type": "stream",
     "text": [
      "The sun rises in  the 'East'.\n",
      "The sun rises in  the  East  \n"
     ]
    }
   ],
   "source": [
    "filtered_doc = tp.remove.punctuation(d1)\n",
    "\n",
    "\n",
    "print(d1)\n",
    "print(filtered_doc)"
   ]
  },
  {
   "cell_type": "markdown",
   "id": "8f81dbad",
   "metadata": {},
   "source": [
    "## Remove html tags"
   ]
  },
  {
   "cell_type": "code",
   "execution_count": 7,
   "id": "0f0ed40c",
   "metadata": {},
   "outputs": [
    {
     "name": "stdout",
     "output_type": "stream",
     "text": [
      "<!DOCTYPE> M.S Dhoni is the captain of Chennai Super Kings. #Whistle-podu\n",
      "M.S Dhoni is the captain of Chennai Super Kings. #Whistle-podu\n"
     ]
    }
   ],
   "source": [
    "filtered_doc = tp.remove.html_tags(d4)\n",
    "\n",
    "print(d4)\n",
    "print(filtered_doc)"
   ]
  },
  {
   "cell_type": "markdown",
   "id": "a0738092",
   "metadata": {},
   "source": [
    "## Replace currency symbol with white space"
   ]
  },
  {
   "cell_type": "code",
   "execution_count": 8,
   "id": "53e15cf2",
   "metadata": {},
   "outputs": [
    {
     "name": "stdout",
     "output_type": "stream",
     "text": [
      "Hello World ! ### !$ ...\n",
      "Hello World ! ### ! ...\n"
     ]
    }
   ],
   "source": [
    "filtered_doc = tp.replace.currency_symbols(d2,'')\n",
    "\n",
    "print(d2)\n",
    "print(filtered_doc)"
   ]
  },
  {
   "cell_type": "markdown",
   "id": "30a82748",
   "metadata": {},
   "source": [
    "## Replace email with white space"
   ]
  },
  {
   "cell_type": "code",
   "execution_count": 9,
   "id": "136d745d",
   "metadata": {},
   "outputs": [
    {
     "name": "stdout",
     "output_type": "stream",
     "text": [
      "Contact me : E-Mail Id: xyz@gmail.com, Webiste: 'https:\\www.google.com', Mob: 9435478273\n",
      "Contact me : E-Mail Id: , Webiste: 'https:\\www.google.com', Mob: 9435478273\n"
     ]
    }
   ],
   "source": [
    "filtered_doc = tp.replace.emails(d3,'')\n",
    "\n",
    "print(d3)\n",
    "print(filtered_doc)"
   ]
  },
  {
   "cell_type": "markdown",
   "id": "7d1ba429",
   "metadata": {},
   "source": [
    "## Replace phone numbers with white space"
   ]
  },
  {
   "cell_type": "code",
   "execution_count": 10,
   "id": "6e944663",
   "metadata": {},
   "outputs": [
    {
     "name": "stdout",
     "output_type": "stream",
     "text": [
      "Contact me : E-Mail Id: xyz@gmail.com, Webiste: 'https:\\www.google.com', Mob: 9435478273\n",
      "Contact me : E-Mail Id: xyz@gmail.com, Webiste: 'https:\\www.google.com', Mob: \n"
     ]
    }
   ],
   "source": [
    "filtered_doc = tp.replace.phone_numbers(d3,'')\n",
    "\n",
    "print(d3)\n",
    "print(filtered_doc)"
   ]
  },
  {
   "cell_type": "markdown",
   "id": "94659249",
   "metadata": {},
   "source": [
    "## Replace urls with white space"
   ]
  },
  {
   "cell_type": "code",
   "execution_count": 11,
   "id": "9f385da9",
   "metadata": {},
   "outputs": [
    {
     "name": "stdout",
     "output_type": "stream",
     "text": [
      "Contact me : E-Mail Id: xyz@gmail.com, Webiste: 'https:\\www.google.com', Mob: 9435478273\n",
      "Contact me : E-Mail Id: xyz@gmail.com, Webiste: 'https:\\', Mob: 9435478273\n"
     ]
    }
   ],
   "source": [
    "filtered_doc = tp.replace.urls(d3,'')\n",
    "\n",
    "print(d3)\n",
    "print(filtered_doc)"
   ]
  },
  {
   "cell_type": "markdown",
   "id": "c7c74ca9",
   "metadata": {},
   "source": [
    "## Remove white space"
   ]
  },
  {
   "cell_type": "code",
   "execution_count": 12,
   "id": "fb6c4be1",
   "metadata": {},
   "outputs": [
    {
     "name": "stdout",
     "output_type": "stream",
     "text": [
      "The sun rises in  the 'East'.\n",
      "The sun rises in the 'East'.\n"
     ]
    }
   ],
   "source": [
    "filtered_doc = tp.normalize.whitespace(d1)\n",
    "\n",
    "print(d1)\n",
    "print(filtered_doc)"
   ]
  },
  {
   "cell_type": "markdown",
   "id": "9085a3ec",
   "metadata": {},
   "source": [
    "## Lowercase text"
   ]
  },
  {
   "cell_type": "code",
   "execution_count": 13,
   "id": "61b6768f",
   "metadata": {},
   "outputs": [
    {
     "name": "stdout",
     "output_type": "stream",
     "text": [
      "The sun rises in  the 'East'.\n",
      "the sun rises in  the 'east'.\n"
     ]
    }
   ],
   "source": [
    "filtered_doc = d1.lower()\n",
    "\n",
    "print(d1)\n",
    "print(filtered_doc)"
   ]
  },
  {
   "cell_type": "markdown",
   "id": "9b9fd2e1",
   "metadata": {},
   "source": [
    "## Create a text pre-processing function"
   ]
  },
  {
   "cell_type": "code",
   "execution_count": 14,
   "id": "3dd83684",
   "metadata": {},
   "outputs": [],
   "source": [
    "def preprocess_text(text):\n",
    "    \n",
    "    text = tp.remove.html_tags(text)\n",
    "    text = tp.replace.emails(text,'')\n",
    "    text = tp.replace.currency_symbols(text,'')\n",
    "    text = tp.replace.phone_numbers(text,'')\n",
    "    text = tp.replace.urls(text,'')\n",
    "    text = tp.remove.punctuation(text)\n",
    "    text = tp.normalize.whitespace(text)\n",
    "    text = text.lower()\n",
    "    \n",
    "    return text\n",
    "    "
   ]
  },
  {
   "cell_type": "markdown",
   "id": "39d70b0f",
   "metadata": {},
   "source": [
    "## Filtered Corpus after text pre-processing"
   ]
  },
  {
   "cell_type": "code",
   "execution_count": 16,
   "id": "ed85734c",
   "metadata": {},
   "outputs": [
    {
     "name": "stdout",
     "output_type": "stream",
     "text": [
      "the sun rises in the east\n",
      "hello world\n",
      "contact me e mail id webiste https mob\n",
      "m s dhoni is the captain of chennai super kings whistle podu\n"
     ]
    }
   ],
   "source": [
    "filtered_corpus = [ preprocess_text(doc) for doc in corpus]\n",
    "\n",
    "for doc in filtered_corpus:\n",
    "    print(doc)"
   ]
  },
  {
   "cell_type": "code",
   "execution_count": null,
   "id": "f1bbdcd0",
   "metadata": {},
   "outputs": [],
   "source": []
  }
 ],
 "metadata": {
  "kernelspec": {
   "display_name": "Python 3 (ipykernel)",
   "language": "python",
   "name": "python3"
  },
  "language_info": {
   "codemirror_mode": {
    "name": "ipython",
    "version": 3
   },
   "file_extension": ".py",
   "mimetype": "text/x-python",
   "name": "python",
   "nbconvert_exporter": "python",
   "pygments_lexer": "ipython3",
   "version": "3.10.12"
  }
 },
 "nbformat": 4,
 "nbformat_minor": 5
}
