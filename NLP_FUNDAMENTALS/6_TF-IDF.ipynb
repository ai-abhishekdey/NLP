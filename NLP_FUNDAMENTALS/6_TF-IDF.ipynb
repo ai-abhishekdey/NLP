{
 "cells": [
  {
   "cell_type": "markdown",
   "id": "63baed1e",
   "metadata": {},
   "source": [
    "## TF-IDF using Sklearn\n",
    "\n",
    "**Author: Abhishek Dey**"
   ]
  },
  {
   "cell_type": "markdown",
   "id": "4d12d109",
   "metadata": {},
   "source": [
    "## Documents"
   ]
  },
  {
   "cell_type": "code",
   "execution_count": 1,
   "id": "a2cfebef",
   "metadata": {},
   "outputs": [],
   "source": [
    "d1=\"This is a pen\"\n",
    "d2=\"Who is the prime minster of France?\"\n",
    "d3=\"Hurray ! We won the match\""
   ]
  },
  {
   "cell_type": "markdown",
   "id": "235cdce3",
   "metadata": {},
   "source": [
    "## Corpus"
   ]
  },
  {
   "cell_type": "code",
   "execution_count": 2,
   "id": "1ffc2209",
   "metadata": {},
   "outputs": [],
   "source": [
    "corpus=[d1,d2,d3]"
   ]
  },
  {
   "cell_type": "code",
   "execution_count": 3,
   "id": "637f719e",
   "metadata": {},
   "outputs": [
    {
     "data": {
      "text/plain": [
       "['This is a pen',\n",
       " 'Who is the prime minster of France?',\n",
       " 'Hurray ! We won the match']"
      ]
     },
     "execution_count": 3,
     "metadata": {},
     "output_type": "execute_result"
    }
   ],
   "source": [
    "corpus"
   ]
  },
  {
   "cell_type": "markdown",
   "id": "5a37efd3",
   "metadata": {},
   "source": [
    "## Text-Preprocessing"
   ]
  },
  {
   "cell_type": "code",
   "execution_count": 4,
   "id": "a351a72e",
   "metadata": {},
   "outputs": [],
   "source": [
    "from textacy import preprocessing as tp"
   ]
  },
  {
   "cell_type": "code",
   "execution_count": 5,
   "id": "0cd137e8",
   "metadata": {},
   "outputs": [],
   "source": [
    "def text_preprocessing(text):\n",
    "    \n",
    "    text = tp.remove.punctuation(text)\n",
    "    text = tp.normalize.whitespace(text)\n",
    "    text = text.lower()\n",
    "    \n",
    "    return text\n",
    "    "
   ]
  },
  {
   "cell_type": "code",
   "execution_count": 6,
   "id": "33db72f7",
   "metadata": {},
   "outputs": [],
   "source": [
    "filtered_corpus = [text_preprocessing(doc) for doc in corpus]"
   ]
  },
  {
   "cell_type": "code",
   "execution_count": 7,
   "id": "8edf101f",
   "metadata": {},
   "outputs": [
    {
     "name": "stdout",
     "output_type": "stream",
     "text": [
      "this is a pen\n",
      "who is the prime minster of france\n",
      "hurray we won the match\n"
     ]
    }
   ],
   "source": [
    "for doc in filtered_corpus:\n",
    "    print(doc)"
   ]
  },
  {
   "cell_type": "markdown",
   "id": "58699a5b",
   "metadata": {},
   "source": [
    "## TF-IDF import "
   ]
  },
  {
   "cell_type": "code",
   "execution_count": 8,
   "id": "9f950aed",
   "metadata": {},
   "outputs": [],
   "source": [
    "from sklearn.feature_extraction.text import TfidfVectorizer"
   ]
  },
  {
   "cell_type": "code",
   "execution_count": 9,
   "id": "2c15697b",
   "metadata": {},
   "outputs": [],
   "source": [
    "tfidf=TfidfVectorizer()"
   ]
  },
  {
   "cell_type": "code",
   "execution_count": 10,
   "id": "d62f20ca",
   "metadata": {},
   "outputs": [],
   "source": [
    "x=tfidf.fit_transform(corpus)"
   ]
  },
  {
   "cell_type": "markdown",
   "id": "467b5e91",
   "metadata": {},
   "source": [
    "## Vocabulary"
   ]
  },
  {
   "cell_type": "code",
   "execution_count": 11,
   "id": "d97fe9e5",
   "metadata": {},
   "outputs": [
    {
     "data": {
      "text/plain": [
       "{'this': 9,\n",
       " 'is': 2,\n",
       " 'pen': 6,\n",
       " 'who': 11,\n",
       " 'the': 8,\n",
       " 'prime': 7,\n",
       " 'minster': 4,\n",
       " 'of': 5,\n",
       " 'france': 0,\n",
       " 'hurray': 1,\n",
       " 'we': 10,\n",
       " 'won': 12,\n",
       " 'match': 3}"
      ]
     },
     "execution_count": 11,
     "metadata": {},
     "output_type": "execute_result"
    }
   ],
   "source": [
    "tfidf.vocabulary_"
   ]
  },
  {
   "cell_type": "markdown",
   "id": "cc7fe824",
   "metadata": {},
   "source": [
    "## TF-IDF"
   ]
  },
  {
   "cell_type": "code",
   "execution_count": 15,
   "id": "8d401b1a",
   "metadata": {},
   "outputs": [
    {
     "name": "stdout",
     "output_type": "stream",
     "text": [
      "  (0, 9)\t0.6227660078332259\n",
      "  (0, 2)\t0.4736296010332684\n",
      "  (0, 6)\t0.6227660078332259\n",
      "  (1, 2)\t0.3065042162415877\n",
      "  (1, 11)\t0.40301621080355077\n",
      "  (1, 8)\t0.3065042162415877\n",
      "  (1, 7)\t0.40301621080355077\n",
      "  (1, 4)\t0.40301621080355077\n",
      "  (1, 5)\t0.40301621080355077\n",
      "  (1, 0)\t0.40301621080355077\n",
      "  (2, 8)\t0.35543246785041743\n",
      "  (2, 1)\t0.4673509818107163\n",
      "  (2, 10)\t0.4673509818107163\n",
      "  (2, 12)\t0.4673509818107163\n",
      "  (2, 3)\t0.4673509818107163\n"
     ]
    }
   ],
   "source": [
    "print(x)"
   ]
  },
  {
   "cell_type": "code",
   "execution_count": null,
   "id": "b4f4ab34",
   "metadata": {},
   "outputs": [],
   "source": []
  }
 ],
 "metadata": {
  "kernelspec": {
   "display_name": "Python 3 (ipykernel)",
   "language": "python",
   "name": "python3"
  },
  "language_info": {
   "codemirror_mode": {
    "name": "ipython",
    "version": 3
   },
   "file_extension": ".py",
   "mimetype": "text/x-python",
   "name": "python",
   "nbconvert_exporter": "python",
   "pygments_lexer": "ipython3",
   "version": "3.10.12"
  }
 },
 "nbformat": 4,
 "nbformat_minor": 5
}
