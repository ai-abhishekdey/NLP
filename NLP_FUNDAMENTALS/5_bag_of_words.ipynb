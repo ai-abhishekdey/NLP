{
 "cells": [
  {
   "cell_type": "markdown",
   "id": "4b6bd721",
   "metadata": {},
   "source": [
    "## Bag of words using Sklearn\n",
    "\n",
    "**Author: Abhishek Dey**"
   ]
  },
  {
   "cell_type": "markdown",
   "id": "fa67f53a",
   "metadata": {},
   "source": [
    "## Documents"
   ]
  },
  {
   "cell_type": "code",
   "execution_count": 1,
   "id": "f676f524",
   "metadata": {},
   "outputs": [],
   "source": [
    "d1=\"This is a pen\"\n",
    "d2=\"Who is the prime minster of France?\"\n",
    "d3=\"Hurray ! We won the match\""
   ]
  },
  {
   "cell_type": "markdown",
   "id": "60c5069b",
   "metadata": {},
   "source": [
    "## Corpus"
   ]
  },
  {
   "cell_type": "code",
   "execution_count": 2,
   "id": "d2162e8a",
   "metadata": {},
   "outputs": [],
   "source": [
    "corpus=[d1,d2,d3]"
   ]
  },
  {
   "cell_type": "code",
   "execution_count": 3,
   "id": "2f14b413",
   "metadata": {},
   "outputs": [
    {
     "data": {
      "text/plain": [
       "['This is a pen',\n",
       " 'Who is the prime minster of France?',\n",
       " 'Hurray ! We won the match']"
      ]
     },
     "execution_count": 3,
     "metadata": {},
     "output_type": "execute_result"
    }
   ],
   "source": [
    "corpus"
   ]
  },
  {
   "cell_type": "markdown",
   "id": "85222704",
   "metadata": {},
   "source": [
    "## Text-Preprocessing"
   ]
  },
  {
   "cell_type": "code",
   "execution_count": 4,
   "id": "09d35324",
   "metadata": {},
   "outputs": [],
   "source": [
    "from textacy import preprocessing as tp"
   ]
  },
  {
   "cell_type": "code",
   "execution_count": 5,
   "id": "260954fb",
   "metadata": {},
   "outputs": [],
   "source": [
    "def text_preprocessing(text):\n",
    "    \n",
    "    text = tp.remove.punctuation(text)\n",
    "    text = tp.normalize.whitespace(text)\n",
    "    text = text.lower()\n",
    "    \n",
    "    return text\n",
    "    "
   ]
  },
  {
   "cell_type": "code",
   "execution_count": 6,
   "id": "7b964550",
   "metadata": {},
   "outputs": [],
   "source": [
    "filtered_corpus = [text_preprocessing(doc) for doc in corpus]"
   ]
  },
  {
   "cell_type": "code",
   "execution_count": 7,
   "id": "80fa077a",
   "metadata": {},
   "outputs": [
    {
     "name": "stdout",
     "output_type": "stream",
     "text": [
      "this is a pen\n",
      "who is the prime minster of france\n",
      "hurray we won the match\n"
     ]
    }
   ],
   "source": [
    "for doc in filtered_corpus:\n",
    "    print(doc)"
   ]
  },
  {
   "cell_type": "markdown",
   "id": "f961b215",
   "metadata": {},
   "source": [
    "## Bag of words"
   ]
  },
  {
   "cell_type": "code",
   "execution_count": 8,
   "id": "115153a1",
   "metadata": {},
   "outputs": [],
   "source": [
    "from sklearn.feature_extraction.text import CountVectorizer"
   ]
  },
  {
   "cell_type": "code",
   "execution_count": 9,
   "id": "776d2730",
   "metadata": {},
   "outputs": [],
   "source": [
    "cv=CountVectorizer()"
   ]
  },
  {
   "cell_type": "code",
   "execution_count": 10,
   "id": "b5a0e49d",
   "metadata": {},
   "outputs": [],
   "source": [
    "x=cv.fit_transform(filtered_corpus)"
   ]
  },
  {
   "cell_type": "markdown",
   "id": "e99e42f0",
   "metadata": {},
   "source": [
    "## Vocabulary "
   ]
  },
  {
   "cell_type": "code",
   "execution_count": 11,
   "id": "3f2c9a60",
   "metadata": {},
   "outputs": [
    {
     "data": {
      "text/plain": [
       "{'this': 9,\n",
       " 'is': 2,\n",
       " 'pen': 6,\n",
       " 'who': 11,\n",
       " 'the': 8,\n",
       " 'prime': 7,\n",
       " 'minster': 4,\n",
       " 'of': 5,\n",
       " 'france': 0,\n",
       " 'hurray': 1,\n",
       " 'we': 10,\n",
       " 'won': 12,\n",
       " 'match': 3}"
      ]
     },
     "execution_count": 11,
     "metadata": {},
     "output_type": "execute_result"
    }
   ],
   "source": [
    "cv.vocabulary_"
   ]
  },
  {
   "cell_type": "markdown",
   "id": "31a7bb9c",
   "metadata": {},
   "source": [
    "## Vectorization"
   ]
  },
  {
   "cell_type": "code",
   "execution_count": 12,
   "id": "fa97409f",
   "metadata": {},
   "outputs": [
    {
     "data": {
      "text/plain": [
       "array([[0, 0, 1, 0, 0, 0, 1, 0, 0, 1, 0, 0, 0],\n",
       "       [1, 0, 1, 0, 1, 1, 0, 1, 1, 0, 0, 1, 0],\n",
       "       [0, 1, 0, 1, 0, 0, 0, 0, 1, 0, 1, 0, 1]])"
      ]
     },
     "execution_count": 12,
     "metadata": {},
     "output_type": "execute_result"
    }
   ],
   "source": [
    "x.toarray()"
   ]
  },
  {
   "cell_type": "code",
   "execution_count": null,
   "id": "84507b2c",
   "metadata": {},
   "outputs": [],
   "source": []
  }
 ],
 "metadata": {
  "kernelspec": {
   "display_name": "Python 3 (ipykernel)",
   "language": "python",
   "name": "python3"
  },
  "language_info": {
   "codemirror_mode": {
    "name": "ipython",
    "version": 3
   },
   "file_extension": ".py",
   "mimetype": "text/x-python",
   "name": "python",
   "nbconvert_exporter": "python",
   "pygments_lexer": "ipython3",
   "version": "3.10.12"
  }
 },
 "nbformat": 4,
 "nbformat_minor": 5
}
