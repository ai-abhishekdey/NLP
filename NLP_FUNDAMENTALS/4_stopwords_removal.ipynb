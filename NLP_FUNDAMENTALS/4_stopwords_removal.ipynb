{
 "cells": [
  {
   "cell_type": "markdown",
   "id": "71c4bc68",
   "metadata": {},
   "source": [
    "## Stopwords Removal using NLTK\n",
    "\n",
    "**Author:Abhishek Dey**\n"
   ]
  },
  {
   "cell_type": "code",
   "execution_count": 1,
   "id": "50617ab1",
   "metadata": {},
   "outputs": [],
   "source": [
    "import nltk"
   ]
  },
  {
   "cell_type": "code",
   "execution_count": 2,
   "id": "1676fb0c",
   "metadata": {},
   "outputs": [
    {
     "name": "stderr",
     "output_type": "stream",
     "text": [
      "[nltk_data] Downloading package punkt to /home/abhishek/nltk_data...\n",
      "[nltk_data]   Package punkt is already up-to-date!\n",
      "[nltk_data] Downloading package stopwords to\n",
      "[nltk_data]     /home/abhishek/nltk_data...\n",
      "[nltk_data]   Package stopwords is already up-to-date!\n"
     ]
    },
    {
     "data": {
      "text/plain": [
       "True"
      ]
     },
     "execution_count": 2,
     "metadata": {},
     "output_type": "execute_result"
    }
   ],
   "source": [
    "nltk.download('punkt')\n",
    "nltk.download('stopwords')"
   ]
  },
  {
   "cell_type": "markdown",
   "id": "ae377509",
   "metadata": {},
   "source": [
    "## Documents"
   ]
  },
  {
   "cell_type": "code",
   "execution_count": 3,
   "id": "2fd24b68",
   "metadata": {},
   "outputs": [],
   "source": [
    "d1=\"This is a pen\"\n",
    "d2=\"Who is the prime minster of France?\"\n",
    "d3=\"Hurray ! We won the match\""
   ]
  },
  {
   "cell_type": "markdown",
   "id": "4e45a8f6",
   "metadata": {},
   "source": [
    "## Corpus"
   ]
  },
  {
   "cell_type": "code",
   "execution_count": 4,
   "id": "16f1aed7",
   "metadata": {},
   "outputs": [],
   "source": [
    "corpus=[d1,d2,d3]"
   ]
  },
  {
   "cell_type": "code",
   "execution_count": 5,
   "id": "093d3779",
   "metadata": {},
   "outputs": [
    {
     "data": {
      "text/plain": [
       "['This is a pen',\n",
       " 'Who is the prime minster of France?',\n",
       " 'Hurray ! We won the match']"
      ]
     },
     "execution_count": 5,
     "metadata": {},
     "output_type": "execute_result"
    }
   ],
   "source": [
    "corpus"
   ]
  },
  {
   "cell_type": "markdown",
   "id": "eae3ebda",
   "metadata": {},
   "source": [
    "## Lower case corpus"
   ]
  },
  {
   "cell_type": "code",
   "execution_count": 6,
   "id": "601a888e",
   "metadata": {},
   "outputs": [
    {
     "name": "stdout",
     "output_type": "stream",
     "text": [
      "this is a pen\n",
      "who is the prime minster of france?\n",
      "hurray ! we won the match\n"
     ]
    }
   ],
   "source": [
    "corpus_lower = [doc.lower() for doc in corpus]\n",
    "\n",
    "for doc in corpus_lower:\n",
    "    print(doc)"
   ]
  },
  {
   "cell_type": "markdown",
   "id": "92dc55e9",
   "metadata": {},
   "source": [
    "## Tokenize lower case corpus"
   ]
  },
  {
   "cell_type": "code",
   "execution_count": 7,
   "id": "d78d83fa",
   "metadata": {},
   "outputs": [
    {
     "name": "stdout",
     "output_type": "stream",
     "text": [
      "['this', 'is', 'a', 'pen']\n",
      "['who', 'is', 'the', 'prime', 'minster', 'of', 'france', '?']\n",
      "['hurray', '!', 'we', 'won', 'the', 'match']\n"
     ]
    }
   ],
   "source": [
    "from nltk import word_tokenize\n",
    "\n",
    "tokenized_corpus = [word_tokenize(doc) for doc in corpus_lower]\n",
    "\n",
    "for doc in tokenized_corpus:\n",
    "    print(doc)"
   ]
  },
  {
   "cell_type": "markdown",
   "id": "106100cc",
   "metadata": {},
   "source": [
    "## Define English Stopwords"
   ]
  },
  {
   "cell_type": "code",
   "execution_count": 8,
   "id": "47358513",
   "metadata": {},
   "outputs": [],
   "source": [
    "from nltk.corpus import stopwords\n",
    "\n",
    "stop_words=set(stopwords.words('english'))"
   ]
  },
  {
   "cell_type": "markdown",
   "id": "9c2d614f",
   "metadata": {},
   "source": [
    "## Remove stopwords"
   ]
  },
  {
   "cell_type": "code",
   "execution_count": 9,
   "id": "96e52f2b",
   "metadata": {},
   "outputs": [
    {
     "name": "stdout",
     "output_type": "stream",
     "text": [
      "['pen']\n",
      "['prime', 'minster', 'france', '?']\n",
      "['hurray', '!', 'match']\n"
     ]
    }
   ],
   "source": [
    "filtered_corpus = [\n",
    "    [word for word in doc if word not in stop_words]\n",
    "    for doc in tokenized_corpus\n",
    "]\n",
    "\n",
    "for doc in filtered_corpus:\n",
    "    print(doc)"
   ]
  },
  {
   "cell_type": "code",
   "execution_count": null,
   "id": "2142fd53",
   "metadata": {},
   "outputs": [],
   "source": []
  }
 ],
 "metadata": {
  "kernelspec": {
   "display_name": "Python 3 (ipykernel)",
   "language": "python",
   "name": "python3"
  },
  "language_info": {
   "codemirror_mode": {
    "name": "ipython",
    "version": 3
   },
   "file_extension": ".py",
   "mimetype": "text/x-python",
   "name": "python",
   "nbconvert_exporter": "python",
   "pygments_lexer": "ipython3",
   "version": "3.10.12"
  }
 },
 "nbformat": 4,
 "nbformat_minor": 5
}
