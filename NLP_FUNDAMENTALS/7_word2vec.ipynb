{
 "cells": [
  {
   "cell_type": "markdown",
   "id": "60b83870",
   "metadata": {},
   "source": [
    "## Word2vec using Gensim\n",
    "\n",
    "**Author: Abhishek Dey**"
   ]
  },
  {
   "cell_type": "markdown",
   "id": "69fd259e",
   "metadata": {},
   "source": [
    "## Installation"
   ]
  },
  {
   "cell_type": "code",
   "execution_count": 1,
   "id": "a7fb73b3",
   "metadata": {},
   "outputs": [
    {
     "name": "stdout",
     "output_type": "stream",
     "text": [
      "Defaulting to user installation because normal site-packages is not writeable\n",
      "Requirement already satisfied: gensim in /home/abhishek/.local/lib/python3.10/site-packages (4.3.3)\n",
      "Requirement already satisfied: numpy<2.0,>=1.18.5 in /home/abhishek/.local/lib/python3.10/site-packages (from gensim) (1.26.4)\n",
      "Requirement already satisfied: scipy<1.14.0,>=1.7.0 in /home/abhishek/.local/lib/python3.10/site-packages (from gensim) (1.12.0)\n",
      "Requirement already satisfied: smart-open>=1.8.1 in /home/abhishek/.local/lib/python3.10/site-packages (from gensim) (7.0.5)\n",
      "Requirement already satisfied: wrapt in /home/abhishek/.local/lib/python3.10/site-packages (from smart-open>=1.8.1->gensim) (1.14.1)\n",
      "\u001b[33mWARNING: Error parsing dependencies of textract: .* suffix can only be used with `==` or `!=` operators\n",
      "    extract-msg (<=0.29.*)\n",
      "                 ~~~~~~~^\u001b[0m\u001b[33m\n",
      "\u001b[0m\n",
      "\u001b[1m[\u001b[0m\u001b[34;49mnotice\u001b[0m\u001b[1;39;49m]\u001b[0m\u001b[39;49m A new release of pip is available: \u001b[0m\u001b[31;49m25.0\u001b[0m\u001b[39;49m -> \u001b[0m\u001b[32;49m25.0.1\u001b[0m\n",
      "\u001b[1m[\u001b[0m\u001b[34;49mnotice\u001b[0m\u001b[1;39;49m]\u001b[0m\u001b[39;49m To update, run: \u001b[0m\u001b[32;49mpython3 -m pip install --upgrade pip\u001b[0m\n"
     ]
    }
   ],
   "source": [
    "!pip3 install gensim"
   ]
  },
  {
   "cell_type": "markdown",
   "id": "a8ca7473",
   "metadata": {},
   "source": [
    "## Documents"
   ]
  },
  {
   "cell_type": "code",
   "execution_count": 2,
   "id": "8470a100",
   "metadata": {},
   "outputs": [],
   "source": [
    "d1=\"Apple and oranges are fruits\"\n",
    "d2=\"iphone is a product of Apple\"\n",
    "d3=\"Lion is roaming in the Jungle\"\n",
    "d4=\"Where is the Tiger ?\"\n",
    "d5=\"Samsung mobiles are popular in China\"\n",
    "d6=\"India is one of the biggest exporter of Cocunut\""
   ]
  },
  {
   "cell_type": "markdown",
   "id": "de649c52",
   "metadata": {},
   "source": [
    "## Corpus"
   ]
  },
  {
   "cell_type": "code",
   "execution_count": 3,
   "id": "1491e749",
   "metadata": {},
   "outputs": [],
   "source": [
    "corpus = [d1,d2,d3,d4,d5,d6]"
   ]
  },
  {
   "cell_type": "code",
   "execution_count": 4,
   "id": "ffc7722f",
   "metadata": {},
   "outputs": [
    {
     "data": {
      "text/plain": [
       "['Apple and oranges are fruits',\n",
       " 'iphone is a product of Apple',\n",
       " 'Lion is roaming in the Jungle',\n",
       " 'Where is the Tiger ?',\n",
       " 'Samsung mobiles are popular in China',\n",
       " 'India is one of the biggest exporter of Cocunut']"
      ]
     },
     "execution_count": 4,
     "metadata": {},
     "output_type": "execute_result"
    }
   ],
   "source": [
    "corpus"
   ]
  },
  {
   "cell_type": "markdown",
   "id": "6189a961",
   "metadata": {},
   "source": [
    "## Text-preprocessing"
   ]
  },
  {
   "cell_type": "code",
   "execution_count": 5,
   "id": "0aa970fa",
   "metadata": {},
   "outputs": [],
   "source": [
    "from textacy import preprocessing as tp"
   ]
  },
  {
   "cell_type": "code",
   "execution_count": 6,
   "id": "37b4fde6",
   "metadata": {},
   "outputs": [],
   "source": [
    "def text_preprocessing(text):\n",
    "    \n",
    "    text = tp.remove.punctuation(text)\n",
    "    text = tp.normalize.whitespace(text)\n",
    "    text = text.lower()\n",
    "    \n",
    "    return text"
   ]
  },
  {
   "cell_type": "code",
   "execution_count": 7,
   "id": "4f19fb93",
   "metadata": {},
   "outputs": [],
   "source": [
    "filtered_corpus = [text_preprocessing(doc) for doc in corpus]"
   ]
  },
  {
   "cell_type": "code",
   "execution_count": 8,
   "id": "ba9049f8",
   "metadata": {},
   "outputs": [
    {
     "name": "stdout",
     "output_type": "stream",
     "text": [
      "apple and oranges are fruits\n",
      "iphone is a product of apple\n",
      "lion is roaming in the jungle\n",
      "where is the tiger\n",
      "samsung mobiles are popular in china\n",
      "india is one of the biggest exporter of cocunut\n"
     ]
    }
   ],
   "source": [
    "for doc in filtered_corpus:\n",
    "    print(doc)"
   ]
  },
  {
   "cell_type": "markdown",
   "id": "c679f56d",
   "metadata": {},
   "source": [
    "## Tokenization"
   ]
  },
  {
   "cell_type": "code",
   "execution_count": 9,
   "id": "7604cf53",
   "metadata": {},
   "outputs": [],
   "source": [
    "from nltk import word_tokenize"
   ]
  },
  {
   "cell_type": "code",
   "execution_count": 15,
   "id": "26e94887",
   "metadata": {},
   "outputs": [],
   "source": [
    "tokenized_corpus = [word_tokenize(doc) for doc in filtered_corpus]"
   ]
  },
  {
   "cell_type": "code",
   "execution_count": 16,
   "id": "f251e564",
   "metadata": {},
   "outputs": [
    {
     "name": "stdout",
     "output_type": "stream",
     "text": [
      "['apple', 'and', 'oranges', 'are', 'fruits']\n",
      "['iphone', 'is', 'a', 'product', 'of', 'apple']\n",
      "['lion', 'is', 'roaming', 'in', 'the', 'jungle']\n",
      "['where', 'is', 'the', 'tiger']\n",
      "['samsung', 'mobiles', 'are', 'popular', 'in', 'china']\n",
      "['india', 'is', 'one', 'of', 'the', 'biggest', 'exporter', 'of', 'cocunut']\n"
     ]
    }
   ],
   "source": [
    "for doc in tokenized_corpus:\n",
    "    print(doc)"
   ]
  },
  {
   "cell_type": "markdown",
   "id": "241dd521",
   "metadata": {},
   "source": [
    "## Word2vec"
   ]
  },
  {
   "cell_type": "code",
   "execution_count": 17,
   "id": "1b07ac7d",
   "metadata": {},
   "outputs": [],
   "source": [
    "import gensim\n",
    "from gensim.models import Word2Vec"
   ]
  },
  {
   "cell_type": "markdown",
   "id": "2a996dce",
   "metadata": {},
   "source": [
    "## Train a Word2Vec model on the tokenized corpus"
   ]
  },
  {
   "cell_type": "code",
   "execution_count": 18,
   "id": "5de9c221",
   "metadata": {},
   "outputs": [],
   "source": [
    "model = Word2Vec(sentences=tokenized_corpus, vector_size=100, window=5, min_count=1, workers=4)"
   ]
  },
  {
   "cell_type": "markdown",
   "id": "a169cbf4",
   "metadata": {},
   "source": [
    "## Get the word vector for 'samsung'"
   ]
  },
  {
   "cell_type": "code",
   "execution_count": 19,
   "id": "951db65a",
   "metadata": {},
   "outputs": [],
   "source": [
    "vector1 = model.wv['samsung']"
   ]
  },
  {
   "cell_type": "code",
   "execution_count": 20,
   "id": "183bb5e0",
   "metadata": {},
   "outputs": [
    {
     "data": {
      "text/plain": [
       "array([-4.9735666e-03, -1.2833046e-03,  3.2806373e-03, -6.4140330e-03,\n",
       "       -9.7015891e-03, -9.2602335e-03,  9.0206973e-03,  5.3716935e-03,\n",
       "       -4.7882269e-03, -8.3296420e-03,  1.2939513e-03,  2.8780627e-03,\n",
       "       -1.2452841e-03,  1.2708711e-03, -4.3213032e-03,  4.7913659e-03,\n",
       "        1.4751852e-03,  8.8778250e-03, -9.9765137e-03, -5.2695703e-03,\n",
       "       -9.1028418e-03, -3.4791828e-04, -7.8573059e-03,  5.0312411e-03,\n",
       "       -6.3968552e-03, -5.9528374e-03,  5.0709103e-03, -8.1597688e-03,\n",
       "        1.4552021e-03, -7.2395410e-03,  9.8624220e-03,  8.6337589e-03,\n",
       "        1.7689526e-03,  5.7885037e-03,  4.5962157e-03, -5.9917830e-03,\n",
       "        9.7569469e-03, -9.6822055e-03,  8.0492580e-03,  2.7563798e-03,\n",
       "       -3.0551220e-03, -3.5618627e-03,  9.0719536e-03, -5.4409085e-03,\n",
       "        8.1868721e-03, -6.0088872e-03,  8.3913766e-03, -5.5549381e-04,\n",
       "        7.9425992e-03, -3.1549716e-03,  5.9792148e-03,  8.8043455e-03,\n",
       "        2.5438380e-03,  1.3177490e-03,  5.0391923e-03,  8.0025224e-03,\n",
       "        8.5680140e-03,  8.4927725e-03,  7.0525263e-03,  8.0026500e-03,\n",
       "        8.5997405e-03, -3.3091306e-05, -1.0037315e-03,  1.6657913e-03,\n",
       "        3.2734870e-06,  6.8517687e-04, -8.6009372e-03, -9.5947310e-03,\n",
       "       -2.3146761e-03,  8.9282002e-03, -3.6475873e-03, -6.9781933e-03,\n",
       "        4.8793829e-03,  1.0691178e-03,  1.8510211e-03,  3.6529566e-03,\n",
       "        3.5206736e-03,  5.7261218e-03,  1.2343001e-03,  8.4446312e-04,\n",
       "        9.0452507e-03,  2.7822172e-03, -4.7028554e-03,  6.5421867e-03,\n",
       "        5.2133119e-03,  2.8705669e-03, -3.1378341e-03,  3.3368361e-03,\n",
       "        6.3642981e-03,  7.0810402e-03,  9.4116566e-04, -8.5317669e-03,\n",
       "        2.5776148e-04,  3.7042022e-04,  3.9429818e-03, -9.4689596e-03,\n",
       "        9.7078709e-03, -6.9722771e-03,  5.7614399e-03, -9.4298720e-03],\n",
       "      dtype=float32)"
      ]
     },
     "execution_count": 20,
     "metadata": {},
     "output_type": "execute_result"
    }
   ],
   "source": [
    "vector1"
   ]
  },
  {
   "cell_type": "code",
   "execution_count": 21,
   "id": "ad95f06d",
   "metadata": {},
   "outputs": [
    {
     "data": {
      "text/plain": [
       "100"
      ]
     },
     "execution_count": 21,
     "metadata": {},
     "output_type": "execute_result"
    }
   ],
   "source": [
    "len(vector1)"
   ]
  },
  {
   "cell_type": "markdown",
   "id": "4c1f71d8",
   "metadata": {},
   "source": [
    "## Get the word vector for 'jungle'"
   ]
  },
  {
   "cell_type": "code",
   "execution_count": 22,
   "id": "752c54ad",
   "metadata": {},
   "outputs": [],
   "source": [
    "vector2 = model.wv[\"jungle\"]"
   ]
  },
  {
   "cell_type": "code",
   "execution_count": 23,
   "id": "097c1f26",
   "metadata": {},
   "outputs": [
    {
     "data": {
      "text/plain": [
       "array([ 1.3325238e-03,  6.5408563e-03,  9.9846032e-03,  9.0624550e-03,\n",
       "       -8.0153607e-03,  6.4913859e-03, -5.7147373e-03, -9.7157480e-04,\n",
       "        4.8282265e-04,  6.5819337e-03,  4.4701435e-03,  4.6037268e-03,\n",
       "        9.4831241e-03,  3.8266421e-04, -6.0387133e-03, -6.3301004e-03,\n",
       "        6.4317896e-03, -5.2425815e-03, -2.8498126e-03,  4.0752841e-03,\n",
       "       -2.2902358e-03, -6.0252128e-03, -2.3236549e-03,  1.2069190e-03,\n",
       "        2.1833598e-03,  6.0837734e-03, -5.2140011e-03,  3.0779613e-03,\n",
       "        7.2406759e-03,  2.1951138e-03,  5.3974902e-03, -4.8453333e-03,\n",
       "        6.1526122e-03, -7.6012816e-03,  3.4928655e-03, -9.3218042e-03,\n",
       "       -2.6043104e-03, -9.0731988e-03, -1.5882683e-03, -5.3647519e-03,\n",
       "       -3.9439187e-03,  1.1536527e-03,  2.8003477e-03, -1.5263951e-03,\n",
       "       -8.1705153e-03, -5.9180222e-03,  8.1929564e-04, -3.9462578e-03,\n",
       "       -9.4304476e-03, -7.7497482e-04,  6.6332687e-03,  5.9788441e-03,\n",
       "       -9.9172592e-03,  3.1185830e-03, -5.9873010e-03, -9.1818906e-03,\n",
       "        1.7021298e-04, -3.6962033e-04, -6.9719995e-03, -6.2800576e-03,\n",
       "       -2.4260855e-03,  7.0966566e-03, -7.5458791e-03,  7.6980842e-03,\n",
       "       -4.7544480e-04,  1.0932934e-03,  9.4826613e-03,  4.7281599e-03,\n",
       "       -3.5727667e-03,  3.7356198e-03,  3.5192859e-03,  6.3366974e-03,\n",
       "        6.9339272e-05, -4.4236863e-03,  1.3182712e-03, -5.4142345e-03,\n",
       "        1.4117574e-03,  4.9261809e-03,  5.1548481e-03,  9.1816373e-03,\n",
       "       -7.5126649e-03, -5.4036439e-03,  6.4693727e-03,  1.3554788e-03,\n",
       "       -6.6118012e-03,  8.8438985e-04,  2.6770402e-03, -2.5288356e-03,\n",
       "       -4.9601602e-03,  5.0047552e-03,  9.6218213e-03, -7.3646735e-03,\n",
       "       -1.1532188e-04, -2.5644589e-03, -6.3651418e-03, -1.3786554e-03,\n",
       "       -5.2507855e-03,  9.0599954e-03, -5.7907687e-03,  3.6860751e-03],\n",
       "      dtype=float32)"
      ]
     },
     "execution_count": 23,
     "metadata": {},
     "output_type": "execute_result"
    }
   ],
   "source": [
    "vector2"
   ]
  },
  {
   "cell_type": "markdown",
   "id": "98c08c70",
   "metadata": {},
   "source": [
    "## Get words similar to 'india'"
   ]
  },
  {
   "cell_type": "code",
   "execution_count": 25,
   "id": "b1c3662d",
   "metadata": {},
   "outputs": [
    {
     "name": "stdout",
     "output_type": "stream",
     "text": [
      "[('is', 0.21883949637413025), ('mobiles', 0.1747463196516037), ('popular', 0.16378773748874664)]\n"
     ]
    }
   ],
   "source": [
    "similar_words = model.wv.most_similar('india', topn=3)\n",
    "\n",
    "print(similar_words)"
   ]
  },
  {
   "cell_type": "markdown",
   "id": "b797ffb0",
   "metadata": {},
   "source": [
    "## Note"
   ]
  },
  {
   "cell_type": "markdown",
   "id": "9283bcbb",
   "metadata": {},
   "source": [
    "* The similar words are inaccurate\n",
    "\n",
    "* This is because word2vec requires large amount of data to learn meaningful word relationships"
   ]
  },
  {
   "cell_type": "code",
   "execution_count": null,
   "id": "a329269e",
   "metadata": {},
   "outputs": [],
   "source": []
  }
 ],
 "metadata": {
  "kernelspec": {
   "display_name": "Python 3 (ipykernel)",
   "language": "python",
   "name": "python3"
  },
  "language_info": {
   "codemirror_mode": {
    "name": "ipython",
    "version": 3
   },
   "file_extension": ".py",
   "mimetype": "text/x-python",
   "name": "python",
   "nbconvert_exporter": "python",
   "pygments_lexer": "ipython3",
   "version": "3.10.12"
  }
 },
 "nbformat": 4,
 "nbformat_minor": 5
}
