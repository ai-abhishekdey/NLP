{
 "cells": [
  {
   "cell_type": "markdown",
   "id": "5910845d",
   "metadata": {},
   "source": [
    "## Stemming and Lemmatization\n",
    "\n",
    "**Author: Abhishek**"
   ]
  },
  {
   "cell_type": "markdown",
   "id": "5b2de74f",
   "metadata": {},
   "source": [
    "### Defination :"
   ]
  },
  {
   "cell_type": "markdown",
   "id": "98ce0f06",
   "metadata": {},
   "source": [
    "Stemming and Lemmatization are two important pre-processing techniques in NLP for reducing the word into it's base or root form. The purpose of stemming and Lemmatization is to reduce the dimentionality of text data."
   ]
  },
  {
   "cell_type": "markdown",
   "id": "e11ff30c",
   "metadata": {},
   "source": [
    "### Stemming :"
   ]
  },
  {
   "cell_type": "markdown",
   "id": "5eedb2a2",
   "metadata": {},
   "source": [
    "* In Stemming, the word is reduced to it's base form **(stem)** by removing suffixes and prefixes considering some pre-defined set of rules. **The resulting stem may not be a valid word.** It's simple and **faster** compared to lemmatization\n",
    "\n",
    "* Popular stemming algorithms: **Porter Stemmer, Snowball Stemmer**"
   ]
  },
  {
   "cell_type": "markdown",
   "id": "034eba67",
   "metadata": {},
   "source": [
    "### Lemmatization :"
   ]
  },
  {
   "cell_type": "markdown",
   "id": "00556aaa",
   "metadata": {},
   "source": [
    "* In Lemmatization, the word is reduced to its base form **(lemma)** considering the word's meaning and contextual information. The resulting lemma is a **valid word** that can be found in a dictionary. It's more **accurate** than stemming but relatively **slower**.\n",
    "\n",
    "* Popular Lemmatization algorithm: **WordNet Lemmatizer**"
   ]
  },
  {
   "cell_type": "markdown",
   "id": "70403271",
   "metadata": {},
   "source": [
    "### Import Library"
   ]
  },
  {
   "cell_type": "code",
   "execution_count": 1,
   "id": "23956110",
   "metadata": {},
   "outputs": [
    {
     "name": "stderr",
     "output_type": "stream",
     "text": [
      "[nltk_data] Downloading package punkt to /home/abhishek/nltk_data...\n",
      "[nltk_data]   Package punkt is already up-to-date!\n",
      "[nltk_data] Downloading package wordnet to /home/abhishek/nltk_data...\n"
     ]
    },
    {
     "data": {
      "text/plain": [
       "True"
      ]
     },
     "execution_count": 1,
     "metadata": {},
     "output_type": "execute_result"
    }
   ],
   "source": [
    "import nltk\n",
    "nltk.download('punkt')\n",
    "nltk.download('wordnet')"
   ]
  },
  {
   "cell_type": "code",
   "execution_count": 2,
   "id": "b14250a1",
   "metadata": {},
   "outputs": [],
   "source": [
    "from nltk.stem import PorterStemmer, SnowballStemmer, WordNetLemmatizer"
   ]
  },
  {
   "cell_type": "markdown",
   "id": "8c9dc59a",
   "metadata": {},
   "source": [
    "### Text data"
   ]
  },
  {
   "cell_type": "code",
   "execution_count": 11,
   "id": "56dfb19e",
   "metadata": {},
   "outputs": [],
   "source": [
    "words = ['going', 'goes', 'history', 'congratulations', 'fairly', 'eating', 'eats', 'eaten', 'finalized', 'finally', 'programming', 'sportingly']"
   ]
  },
  {
   "cell_type": "code",
   "execution_count": null,
   "id": "013c9b4c",
   "metadata": {},
   "outputs": [],
   "source": [
    "words = [\n",
    "    {'going': 'v'},\n",
    "    {'goes': 'v'},\n",
    "    {'history': 'n'},\n",
    "    {'congratulations': 'n'},\n",
    "    {'fairly': 'r'},\n",
    "    {'eating': 'v'},\n",
    "    {'eats': 'v'},\n",
    "    {'eaten': 'v'},\n",
    "    {'finalized': 'v'},\n",
    "    {'finally': 'r'},\n",
    "    {'programming': 'n'},  \n",
    "    {'sportingly': 'r'},\n",
    "    {'best': 'a'}\n",
    "]"
   ]
  },
  {
   "cell_type": "code",
   "execution_count": 17,
   "id": "a8ac168b",
   "metadata": {},
   "outputs": [
    {
     "data": {
      "text/plain": [
       "{'going': 'v'}"
      ]
     },
     "execution_count": 17,
     "metadata": {},
     "output_type": "execute_result"
    }
   ],
   "source": [
    "words[0]"
   ]
  },
  {
   "cell_type": "markdown",
   "id": "b0ec67b1",
   "metadata": {},
   "source": [
    "### Intialize objects"
   ]
  },
  {
   "cell_type": "code",
   "execution_count": 12,
   "id": "8ff937a2",
   "metadata": {},
   "outputs": [],
   "source": [
    "porter_stem = PorterStemmer()\n",
    "snowball_stem = SnowballStemmer('english')\n",
    "wordnet_lemma = WordNetLemmatizer()"
   ]
  },
  {
   "cell_type": "markdown",
   "id": "6e688894",
   "metadata": {},
   "source": [
    "### NOTE: For WordNet Lemmatizerm, Parts of speech (POS) tag is required as argument\n",
    "\n",
    "* Noun (n)\n",
    "\n",
    "* Verb (v)\n",
    "\n",
    "* Adjective (a)\n",
    "\n",
    "* Adverb (r)"
   ]
  },
  {
   "cell_type": "markdown",
   "id": "d1279db5",
   "metadata": {},
   "source": [
    "### Comparing Porter stemmer, Snowball stemmer and wordnet lemmetizer"
   ]
  },
  {
   "cell_type": "code",
   "execution_count": 34,
   "id": "6d44f319",
   "metadata": {},
   "outputs": [
    {
     "name": "stdout",
     "output_type": "stream",
     "text": [
      "====================================================\n",
      "Input word :  going\n",
      "Pos tag :  v\n",
      "Porter Stemmer :  go\n",
      "SnowballStemmer :  go\n",
      "Wordnet Lemmetizer :  go\n",
      "====================================================\n",
      "Input word :  goes\n",
      "Pos tag :  v\n",
      "Porter Stemmer :  goe\n",
      "SnowballStemmer :  goe\n",
      "Wordnet Lemmetizer :  go\n",
      "====================================================\n",
      "Input word :  history\n",
      "Pos tag :  n\n",
      "Porter Stemmer :  histori\n",
      "SnowballStemmer :  histori\n",
      "Wordnet Lemmetizer :  history\n",
      "====================================================\n",
      "Input word :  congratulations\n",
      "Pos tag :  n\n",
      "Porter Stemmer :  congratul\n",
      "SnowballStemmer :  congratul\n",
      "Wordnet Lemmetizer :  congratulation\n",
      "====================================================\n",
      "Input word :  fairly\n",
      "Pos tag :  r\n",
      "Porter Stemmer :  fairli\n",
      "SnowballStemmer :  fair\n",
      "Wordnet Lemmetizer :  fairly\n",
      "====================================================\n",
      "Input word :  eating\n",
      "Pos tag :  v\n",
      "Porter Stemmer :  eat\n",
      "SnowballStemmer :  eat\n",
      "Wordnet Lemmetizer :  eat\n",
      "====================================================\n",
      "Input word :  eats\n",
      "Pos tag :  v\n",
      "Porter Stemmer :  eat\n",
      "SnowballStemmer :  eat\n",
      "Wordnet Lemmetizer :  eat\n",
      "====================================================\n",
      "Input word :  eaten\n",
      "Pos tag :  v\n",
      "Porter Stemmer :  eaten\n",
      "SnowballStemmer :  eaten\n",
      "Wordnet Lemmetizer :  eat\n",
      "====================================================\n",
      "Input word :  finalized\n",
      "Pos tag :  v\n",
      "Porter Stemmer :  final\n",
      "SnowballStemmer :  final\n",
      "Wordnet Lemmetizer :  finalize\n",
      "====================================================\n",
      "Input word :  finally\n",
      "Pos tag :  r\n",
      "Porter Stemmer :  final\n",
      "SnowballStemmer :  final\n",
      "Wordnet Lemmetizer :  finally\n",
      "====================================================\n",
      "Input word :  programming\n",
      "Pos tag :  n\n",
      "Porter Stemmer :  program\n",
      "SnowballStemmer :  program\n",
      "Wordnet Lemmetizer :  programming\n",
      "====================================================\n",
      "Input word :  sportingly\n",
      "Pos tag :  r\n",
      "Porter Stemmer :  sportingli\n",
      "SnowballStemmer :  sport\n",
      "Wordnet Lemmetizer :  sportingly\n",
      "====================================================\n",
      "Input word :  best\n",
      "Pos tag :  a\n",
      "Porter Stemmer :  best\n",
      "SnowballStemmer :  best\n",
      "Wordnet Lemmetizer :  best\n"
     ]
    }
   ],
   "source": [
    "for i in range(len(words)):\n",
    "    \n",
    "    print(\"====================================================\")\n",
    "\n",
    "    word_dict = words[i]\n",
    "\n",
    "    for k,v in word_dict.items():\n",
    "\n",
    "        word=str(k)\n",
    "        pos=str(v)\n",
    "\n",
    "    print(\"Input word : \", word)\n",
    "    print(\"Pos tag : \", pos)\n",
    "    print(\"Porter Stemmer : \", porter_stem.stem(word))\n",
    "    print(\"SnowballStemmer : \", snowball_stem.stem(word))\n",
    "    print(\"Wordnet Lemmetizer : \", wordnet_lemma.lemmatize(word,pos))\n"
   ]
  },
  {
   "cell_type": "markdown",
   "id": "c71bfeb0",
   "metadata": {},
   "source": []
  }
 ],
 "metadata": {
  "kernelspec": {
   "display_name": "nlp_env",
   "language": "python",
   "name": "python3"
  },
  "language_info": {
   "codemirror_mode": {
    "name": "ipython",
    "version": 3
   },
   "file_extension": ".py",
   "mimetype": "text/x-python",
   "name": "python",
   "nbconvert_exporter": "python",
   "pygments_lexer": "ipython3",
   "version": "3.10.18"
  }
 },
 "nbformat": 4,
 "nbformat_minor": 5
}
