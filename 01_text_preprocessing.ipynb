{
 "cells": [
  {
   "cell_type": "markdown",
   "id": "4fa6b773",
   "metadata": {},
   "source": [
    "## NLP Basics: Text Pre-processing\n",
    "\n",
    "**Author: Abhishek Dey**"
   ]
  },
  {
   "cell_type": "markdown",
   "id": "9e8126b2",
   "metadata": {},
   "source": [
    "### Import Libraries"
   ]
  },
  {
   "cell_type": "code",
   "execution_count": 19,
   "id": "3ff05b6a",
   "metadata": {},
   "outputs": [],
   "source": [
    "from textacy import preprocessing as tp\n",
    "import emoji\n",
    "import contractions\n",
    "import string"
   ]
  },
  {
   "cell_type": "markdown",
   "id": "9cd309c6",
   "metadata": {},
   "source": [
    "## Text Pre-processing"
   ]
  },
  {
   "cell_type": "markdown",
   "id": "640db821",
   "metadata": {},
   "source": [
    "### Lower case - Upper case"
   ]
  },
  {
   "cell_type": "code",
   "execution_count": 3,
   "id": "8eb89810",
   "metadata": {},
   "outputs": [],
   "source": [
    "text = \"THIS is My Sample Text\""
   ]
  },
  {
   "cell_type": "code",
   "execution_count": 4,
   "id": "e55ecfa6",
   "metadata": {},
   "outputs": [
    {
     "data": {
      "text/plain": [
       "'this is my sample text'"
      ]
     },
     "execution_count": 4,
     "metadata": {},
     "output_type": "execute_result"
    }
   ],
   "source": [
    "text.lower()"
   ]
  },
  {
   "cell_type": "code",
   "execution_count": 5,
   "id": "a4f859eb",
   "metadata": {},
   "outputs": [
    {
     "data": {
      "text/plain": [
       "'THIS IS MY SAMPLE TEXT'"
      ]
     },
     "execution_count": 5,
     "metadata": {},
     "output_type": "execute_result"
    }
   ],
   "source": [
    "text.upper()"
   ]
  },
  {
   "cell_type": "markdown",
   "id": "7e87d3ea",
   "metadata": {},
   "source": [
    "### Contractions"
   ]
  },
  {
   "cell_type": "code",
   "execution_count": 6,
   "id": "d993e52e",
   "metadata": {},
   "outputs": [],
   "source": [
    "text = \"Isn't it ? Let's see ! Don't go there. I Won't talk to you. Haven't they called you ?\""
   ]
  },
  {
   "cell_type": "code",
   "execution_count": 7,
   "id": "de5f8bdc",
   "metadata": {},
   "outputs": [
    {
     "data": {
      "text/plain": [
       "'Is not it ? Let us see ! Do not go there. I Will not talk to you. Have not they called you ?'"
      ]
     },
     "execution_count": 7,
     "metadata": {},
     "output_type": "execute_result"
    }
   ],
   "source": [
    "contractions.fix(text)"
   ]
  },
  {
   "cell_type": "markdown",
   "id": "f34d4c2f",
   "metadata": {},
   "source": [
    "### Remove Emoji"
   ]
  },
  {
   "cell_type": "code",
   "execution_count": 13,
   "id": "18007d1b",
   "metadata": {},
   "outputs": [],
   "source": [
    "text = \"I want to remove the emojis with @ symbol 💼 💡 📚 🤖 🔥\""
   ]
  },
  {
   "cell_type": "code",
   "execution_count": 14,
   "id": "1dd28d9b",
   "metadata": {},
   "outputs": [
    {
     "data": {
      "text/plain": [
       "'I want to remove the emojis with @ symbol     '"
      ]
     },
     "execution_count": 14,
     "metadata": {},
     "output_type": "execute_result"
    }
   ],
   "source": [
    "emoji.replace_emoji(text,'')"
   ]
  },
  {
   "cell_type": "markdown",
   "id": "349e6ac1",
   "metadata": {},
   "source": [
    "### Remove Punctuations"
   ]
  },
  {
   "cell_type": "code",
   "execution_count": 16,
   "id": "eea80501",
   "metadata": {},
   "outputs": [],
   "source": [
    "text = \"I want to remove all my punctuation marks : ; ? , . / ! < > \\ { ' } | ` ~  ( ) @ # $ % ^ * - _ = +\""
   ]
  },
  {
   "cell_type": "code",
   "execution_count": 20,
   "id": "e6505724",
   "metadata": {},
   "outputs": [
    {
     "data": {
      "text/plain": [
       "'I want to remove all my punctuation marks                             '"
      ]
     },
     "execution_count": 20,
     "metadata": {},
     "output_type": "execute_result"
    }
   ],
   "source": [
    "text_1 = text.translate(str.maketrans(\"\",\"\",string.punctuation))\n",
    "\n",
    "text_1"
   ]
  },
  {
   "cell_type": "markdown",
   "id": "9573034b",
   "metadata": {},
   "source": [
    "### Remove White Space"
   ]
  },
  {
   "cell_type": "code",
   "execution_count": 31,
   "id": "b7279c64",
   "metadata": {},
   "outputs": [
    {
     "data": {
      "text/plain": [
       "'This is a Sample Text'"
      ]
     },
     "execution_count": 31,
     "metadata": {},
     "output_type": "execute_result"
    }
   ],
   "source": [
    "text = \"This is   a    Sample Text\"\n",
    "\n",
    "tp.normalize.whitespace(text)"
   ]
  },
  {
   "cell_type": "markdown",
   "id": "e2d94801",
   "metadata": {},
   "source": [
    "### Remove text within  Brackets"
   ]
  },
  {
   "cell_type": "code",
   "execution_count": 33,
   "id": "6ef64f9c",
   "metadata": {},
   "outputs": [
    {
     "data": {
      "text/plain": [
       "' This  a   '"
      ]
     },
     "execution_count": 33,
     "metadata": {},
     "output_type": "execute_result"
    }
   ],
   "source": [
    "text = \" This [is] a ( Sample ) {text} \"\n",
    "\n",
    "tp.remove.brackets(text)"
   ]
  },
  {
   "cell_type": "markdown",
   "id": "fb8acd42",
   "metadata": {},
   "source": [
    "### Remove HTML Tags"
   ]
  },
  {
   "cell_type": "code",
   "execution_count": 35,
   "id": "05e4b164",
   "metadata": {},
   "outputs": [],
   "source": [
    "text = \"<!DOCTYPE>  Defines the document type. <html> Root of an HTML document. <head> Contains metadata. <title> Title of the document. <body> Body of the document\""
   ]
  },
  {
   "cell_type": "code",
   "execution_count": 36,
   "id": "1484e62f",
   "metadata": {},
   "outputs": [
    {
     "data": {
      "text/plain": [
       "'Defines the document type.  Root of an HTML document.  Contains metadata.  Title of the document.  Body of the document'"
      ]
     },
     "execution_count": 36,
     "metadata": {},
     "output_type": "execute_result"
    }
   ],
   "source": [
    "tp.remove.html_tags(text)"
   ]
  },
  {
   "cell_type": "markdown",
   "id": "727209a7",
   "metadata": {},
   "source": [
    "### Remove URLs"
   ]
  },
  {
   "cell_type": "code",
   "execution_count": 30,
   "id": "0d3c75ee",
   "metadata": {},
   "outputs": [
    {
     "data": {
      "text/plain": [
       "' Welcome to youtube '"
      ]
     },
     "execution_count": 30,
     "metadata": {},
     "output_type": "execute_result"
    }
   ],
   "source": [
    "text = \" Welcome to youtube https://www.youtube.com/\"\n",
    "\n",
    "text_1 = tp.replace.urls(text,'')\n",
    "\n",
    "text_1"
   ]
  },
  {
   "cell_type": "markdown",
   "id": "e38aba67",
   "metadata": {},
   "source": [
    "### Replace Currency Symbols"
   ]
  },
  {
   "cell_type": "code",
   "execution_count": 37,
   "id": "b33611c7",
   "metadata": {},
   "outputs": [
    {
     "data": {
      "text/plain": [
       "' US Dollar (USD),  Euro (EUR),  British Pound Sterling (GBP),  Indian Rupee (INR)'"
      ]
     },
     "execution_count": 37,
     "metadata": {},
     "output_type": "execute_result"
    }
   ],
   "source": [
    "text = \"$ US Dollar (USD), € Euro (EUR), £ British Pound Sterling (GBP), ₹ Indian Rupee (INR)\"\n",
    "\n",
    "tp.replace.currency_symbols(text,'')"
   ]
  },
  {
   "cell_type": "markdown",
   "id": "97596388",
   "metadata": {},
   "source": [
    "### Replace Email Ids"
   ]
  },
  {
   "cell_type": "code",
   "execution_count": 38,
   "id": "ec5edf7e",
   "metadata": {},
   "outputs": [
    {
     "data": {
      "text/plain": [
       "'Name: Peter Parker, Email-id:  '"
      ]
     },
     "execution_count": 38,
     "metadata": {},
     "output_type": "execute_result"
    }
   ],
   "source": [
    "text = \"Name: Peter Parker, Email-id: peter@gmail.com \"\n",
    "\n",
    "tp.replace.emails(text,'')"
   ]
  },
  {
   "cell_type": "markdown",
   "id": "542108a7",
   "metadata": {},
   "source": [
    "### Replace Hashtags in text "
   ]
  },
  {
   "cell_type": "code",
   "execution_count": 40,
   "id": "b2c23958",
   "metadata": {},
   "outputs": [
    {
     "data": {
      "text/plain": [
       "'This is a Sample text  '"
      ]
     },
     "execution_count": 40,
     "metadata": {},
     "output_type": "execute_result"
    }
   ],
   "source": [
    "text = \"This is a Sample text #ChakdeIndia #MakeInIndia\"\n",
    "\n",
    "tp.replace.hashtags(text,'')"
   ]
  },
  {
   "cell_type": "markdown",
   "id": "83b0977d",
   "metadata": {},
   "source": [
    "### Replace numbers"
   ]
  },
  {
   "cell_type": "code",
   "execution_count": 43,
   "id": "b6089e90",
   "metadata": {},
   "outputs": [
    {
     "data": {
      "text/plain": [
       "' These are the odd numbers : *, *, *, *, *'"
      ]
     },
     "execution_count": 43,
     "metadata": {},
     "output_type": "execute_result"
    }
   ],
   "source": [
    "text = \" These are the odd numbers : 1, 3, 5, 7, 9\"\n",
    "\n",
    "tp.replace.numbers(text,'*')"
   ]
  },
  {
   "cell_type": "markdown",
   "id": "234fe427",
   "metadata": {},
   "source": [
    "### Replace Phone numbers"
   ]
  },
  {
   "cell_type": "code",
   "execution_count": 44,
   "id": "e108b20c",
   "metadata": {},
   "outputs": [
    {
     "data": {
      "text/plain": [
       "'Hi ! Here is my contact number +91 *'"
      ]
     },
     "execution_count": 44,
     "metadata": {},
     "output_type": "execute_result"
    }
   ],
   "source": [
    "text = \"Hi ! Here is my contact number +91 9802837268\"\n",
    "\n",
    "tp.replace.phone_numbers(text,'*')"
   ]
  },
  {
   "cell_type": "markdown",
   "id": "d7417414",
   "metadata": {},
   "source": [
    "## Documents and Corpus"
   ]
  },
  {
   "cell_type": "markdown",
   "id": "939d753e",
   "metadata": {},
   "source": [
    "### Documents"
   ]
  },
  {
   "cell_type": "code",
   "execution_count": 79,
   "id": "69a1e454",
   "metadata": {},
   "outputs": [],
   "source": [
    "d0 = \"........ This is my    FIRST line of my sample @@@@ TEXT DATA.\"\n",
    "d1 = \"Email sfjkjf@gmail.com and URLS : https:www.google.com\"\n",
    "d2 = \" Here I am learning basic #text pre-processing in NLP. \"\n",
    "d3 = \" i AM INCLUDING    some  special characters like +++ --- ****** \"\n",
    "d4 = \" numbers -34382+3423--34,2115 672  and phone numbers like 9839428392 ///// ;;;; <<< \"\n",
    "d5 = \" Hashtag(# )>>>, Dollar( $) ???, Percentage (%), And (&)\"\n",
    "d6 = \"I am including some    of the emojis such as  💼, 💡, 📚, 🤖, 🔥\"\n",
    "d7 = \"  Adding contractions like don't, won't, didn't. ...\"\n",
    "d8 = \"HTML Tags <!DOCTYPE>, <body>,  <html> <title>\"\n",
    "d9 = \"  Lastly i am adding some puctuation marks like : ; ? , . / ! < > \\ { ' } | ` ~  ( ) @ # $ % ^ * - _ = +\""
   ]
  },
  {
   "cell_type": "markdown",
   "id": "5734f1ff",
   "metadata": {},
   "source": [
    "### Corpus"
   ]
  },
  {
   "cell_type": "code",
   "execution_count": 80,
   "id": "a1fda6ff",
   "metadata": {},
   "outputs": [],
   "source": [
    "corpus = [d0,d1,d2,d3,d4,d5,d6,d7,d8,d9]"
   ]
  },
  {
   "cell_type": "code",
   "execution_count": 81,
   "id": "3e5d79d4",
   "metadata": {},
   "outputs": [
    {
     "data": {
      "text/plain": [
       "['........ This is my    FIRST line of my sample @@@@ TEXT DATA.',\n",
       " 'Email sfjkjf@gmail.com and URLS : https:www.google.com',\n",
       " ' Here I am learning basic #text pre-processing in NLP. ',\n",
       " ' i AM INCLUDING    some  special characters like +++ --- ****** ',\n",
       " ' numbers -34382+3423--34,2115 672  and phone numbers like 9839428392 ///// ;;;; <<< ',\n",
       " ' Hashtag(# )>>>, Dollar( $) ???, Percentage (%), And (&)',\n",
       " 'I am including some    of the emojis such as  💼, 💡, 📚, 🤖, 🔥',\n",
       " \"  Adding contractions like don't, won't, didn't. ...\",\n",
       " 'HTML Tags <!DOCTYPE>, <body>,  <html> <title>',\n",
       " \"  Lastly i am adding some puctuation marks like : ; ? , . / ! < > \\\\ { ' } | ` ~  ( ) @ # $ % ^ * - _ = +\"]"
      ]
     },
     "execution_count": 81,
     "metadata": {},
     "output_type": "execute_result"
    }
   ],
   "source": [
    "corpus"
   ]
  },
  {
   "cell_type": "code",
   "execution_count": 82,
   "id": "c856d298",
   "metadata": {},
   "outputs": [
    {
     "data": {
      "text/plain": [
       "list"
      ]
     },
     "execution_count": 82,
     "metadata": {},
     "output_type": "execute_result"
    }
   ],
   "source": [
    "type(corpus)"
   ]
  },
  {
   "cell_type": "markdown",
   "id": "ac7f6817",
   "metadata": {},
   "source": [
    "### Preprocessing function and text filtering"
   ]
  },
  {
   "cell_type": "code",
   "execution_count": 83,
   "id": "f0549da9",
   "metadata": {},
   "outputs": [],
   "source": [
    "def text_preprocess(text):\n",
    "    \n",
    "    \n",
    "    text = tp.remove.html_tags(text)\n",
    "    text = tp.replace.urls(text,'')\n",
    "    text = tp.replace.currency_symbols(text,'')\n",
    "    text = tp.replace.emails(text,'')\n",
    "    text = tp.replace.phone_numbers(text,'*')\n",
    "    text = tp.replace.hashtags(text,'')\n",
    "    text = tp.replace.numbers(text,'*')\n",
    "    text = text.translate(str.maketrans(\"\",\"\",string.punctuation))\n",
    "    text = emoji.replace_emoji(text,'')\n",
    "    text = contractions.fix(text)\n",
    "    text = text.lower()\n",
    "    text = tp.normalize.whitespace(text)\n",
    "\n",
    "    \n",
    "    return text\n",
    "\n",
    "\n",
    "filtered_corpus = text_preprocess(str(corpus))"
   ]
  },
  {
   "cell_type": "markdown",
   "id": "76b63c82",
   "metadata": {},
   "source": [
    "## Comparison"
   ]
  },
  {
   "cell_type": "markdown",
   "id": "de87d569",
   "metadata": {},
   "source": [
    "### Original Text"
   ]
  },
  {
   "cell_type": "code",
   "execution_count": 84,
   "id": "ae1323f5",
   "metadata": {},
   "outputs": [
    {
     "data": {
      "text/plain": [
       "['........ This is my    FIRST line of my sample @@@@ TEXT DATA.',\n",
       " 'Email sfjkjf@gmail.com and URLS : https:www.google.com',\n",
       " ' Here I am learning basic #text pre-processing in NLP. ',\n",
       " ' i AM INCLUDING    some  special characters like +++ --- ****** ',\n",
       " ' numbers -34382+3423--34,2115 672  and phone numbers like 9839428392 ///// ;;;; <<< ',\n",
       " ' Hashtag(# )>>>, Dollar( $) ???, Percentage (%), And (&)',\n",
       " 'I am including some    of the emojis such as  💼, 💡, 📚, 🤖, 🔥',\n",
       " \"  Adding contractions like don't, won't, didn't. ...\",\n",
       " 'HTML Tags <!DOCTYPE>, <body>,  <html> <title>',\n",
       " \"  Lastly i am adding some puctuation marks like : ; ? , . / ! < > \\\\ { ' } | ` ~  ( ) @ # $ % ^ * - _ = +\"]"
      ]
     },
     "execution_count": 84,
     "metadata": {},
     "output_type": "execute_result"
    }
   ],
   "source": [
    "corpus"
   ]
  },
  {
   "cell_type": "markdown",
   "id": "a7ca16e9",
   "metadata": {},
   "source": [
    "### Filtered Text"
   ]
  },
  {
   "cell_type": "code",
   "execution_count": 85,
   "id": "00509374",
   "metadata": {},
   "outputs": [
    {
     "data": {
      "text/plain": [
       "'this is my first line of my sample text data email and urls https here i am learning basic preprocessing in nlp i am including some special characters like numbers and phone numbers like hashtag dollar percentage and i am including some of the emojis such as adding contractions like do not will not did not html tags lastly i am adding some puctuation marks like'"
      ]
     },
     "execution_count": 85,
     "metadata": {},
     "output_type": "execute_result"
    }
   ],
   "source": [
    "filtered_corpus"
   ]
  },
  {
   "cell_type": "markdown",
   "id": "13839856",
   "metadata": {},
   "source": [
    "### Reference:\n",
    "\n",
    "\n",
    "1. Textacy Documentation : https://textacy.readthedocs.io/en/latest/api_reference/preprocessing.html"
   ]
  }
 ],
 "metadata": {
  "kernelspec": {
   "display_name": "nlp_env",
   "language": "python",
   "name": "python3"
  },
  "language_info": {
   "codemirror_mode": {
    "name": "ipython",
    "version": 3
   },
   "file_extension": ".py",
   "mimetype": "text/x-python",
   "name": "python",
   "nbconvert_exporter": "python",
   "pygments_lexer": "ipython3",
   "version": "3.10.18"
  }
 },
 "nbformat": 4,
 "nbformat_minor": 5
}
