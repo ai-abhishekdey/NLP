{
 "cells": [
  {
   "cell_type": "markdown",
   "id": "4bc181e3",
   "metadata": {},
   "source": [
    "## N-grams\n",
    "\n",
    "**Author: Abhishek Dey**"
   ]
  },
  {
   "cell_type": "markdown",
   "id": "1cca586c",
   "metadata": {},
   "source": [
    "### Defination:"
   ]
  },
  {
   "cell_type": "markdown",
   "id": "68cc5594",
   "metadata": {},
   "source": [
    "Group of n-words together.\n",
    "\n",
    "Ex: data = [\"I love NLP\"]\n",
    "\n",
    "* **Uni-gram (n=1) :** Single words ['I', 'love', 'NLP']\n",
    "\n",
    "* **Bi-gram  (n=2) :** Sequences of two consecutive words ['I love', 'love NLP']\n",
    "\n",
    "* **Tri-gram (n=3) :** Sequences of three consecutive words ['I love NLP']"
   ]
  },
  {
   "cell_type": "markdown",
   "id": "b5288e00",
   "metadata": {},
   "source": [
    "### Import Libraries"
   ]
  },
  {
   "cell_type": "code",
   "execution_count": 20,
   "id": "feb1f13c",
   "metadata": {},
   "outputs": [],
   "source": [
    "import pandas as pd\n",
    "from sklearn.feature_extraction.text import CountVectorizer"
   ]
  },
  {
   "cell_type": "markdown",
   "id": "9d4dd241",
   "metadata": {},
   "source": [
    "### Data"
   ]
  },
  {
   "cell_type": "code",
   "execution_count": 21,
   "id": "edbd0708",
   "metadata": {},
   "outputs": [],
   "source": [
    "data = [\"I love NLP\"]"
   ]
  },
  {
   "cell_type": "markdown",
   "id": "12b2d1a8",
   "metadata": {},
   "source": [
    "### Function to represent text to vector with n-gram combinations"
   ]
  },
  {
   "cell_type": "code",
   "execution_count": 22,
   "id": "7e9bdd4d",
   "metadata": {},
   "outputs": [],
   "source": [
    "def text_to_vec(text, ngram):\n",
    "\n",
    "    count_vec = CountVectorizer(token_pattern=r\"(?u)\\b\\w+\\b\", ngram_range=ngram)\n",
    "    vectors = count_vec.fit_transform(data)\n",
    "    vectors = vectors.toarray()\n",
    "    features = count_vec.get_feature_names_out()\n",
    "    df=pd.DataFrame(vectors,columns=features)\n",
    "    \n",
    "    return df\n"
   ]
  },
  {
   "cell_type": "markdown",
   "id": "11d9c459",
   "metadata": {},
   "source": [
    "### Unigrams only (default)"
   ]
  },
  {
   "cell_type": "code",
   "execution_count": 23,
   "id": "1eb48d4b",
   "metadata": {},
   "outputs": [
    {
     "data": {
      "text/html": [
       "<div>\n",
       "<style scoped>\n",
       "    .dataframe tbody tr th:only-of-type {\n",
       "        vertical-align: middle;\n",
       "    }\n",
       "\n",
       "    .dataframe tbody tr th {\n",
       "        vertical-align: top;\n",
       "    }\n",
       "\n",
       "    .dataframe thead th {\n",
       "        text-align: right;\n",
       "    }\n",
       "</style>\n",
       "<table border=\"1\" class=\"dataframe\">\n",
       "  <thead>\n",
       "    <tr style=\"text-align: right;\">\n",
       "      <th></th>\n",
       "      <th>i</th>\n",
       "      <th>love</th>\n",
       "      <th>nlp</th>\n",
       "    </tr>\n",
       "  </thead>\n",
       "  <tbody>\n",
       "    <tr>\n",
       "      <th>0</th>\n",
       "      <td>1</td>\n",
       "      <td>1</td>\n",
       "      <td>1</td>\n",
       "    </tr>\n",
       "  </tbody>\n",
       "</table>\n",
       "</div>"
      ],
      "text/plain": [
       "   i  love  nlp\n",
       "0  1     1    1"
      ]
     },
     "execution_count": 23,
     "metadata": {},
     "output_type": "execute_result"
    }
   ],
   "source": [
    "text_to_vec(data,(1,1))"
   ]
  },
  {
   "cell_type": "markdown",
   "id": "6a1005fe",
   "metadata": {},
   "source": [
    "### Unigrams + Bigrams"
   ]
  },
  {
   "cell_type": "code",
   "execution_count": 24,
   "id": "d4632d2d",
   "metadata": {},
   "outputs": [
    {
     "data": {
      "text/html": [
       "<div>\n",
       "<style scoped>\n",
       "    .dataframe tbody tr th:only-of-type {\n",
       "        vertical-align: middle;\n",
       "    }\n",
       "\n",
       "    .dataframe tbody tr th {\n",
       "        vertical-align: top;\n",
       "    }\n",
       "\n",
       "    .dataframe thead th {\n",
       "        text-align: right;\n",
       "    }\n",
       "</style>\n",
       "<table border=\"1\" class=\"dataframe\">\n",
       "  <thead>\n",
       "    <tr style=\"text-align: right;\">\n",
       "      <th></th>\n",
       "      <th>i</th>\n",
       "      <th>i love</th>\n",
       "      <th>love</th>\n",
       "      <th>love nlp</th>\n",
       "      <th>nlp</th>\n",
       "    </tr>\n",
       "  </thead>\n",
       "  <tbody>\n",
       "    <tr>\n",
       "      <th>0</th>\n",
       "      <td>1</td>\n",
       "      <td>1</td>\n",
       "      <td>1</td>\n",
       "      <td>1</td>\n",
       "      <td>1</td>\n",
       "    </tr>\n",
       "  </tbody>\n",
       "</table>\n",
       "</div>"
      ],
      "text/plain": [
       "   i  i love  love  love nlp  nlp\n",
       "0  1       1     1         1    1"
      ]
     },
     "execution_count": 24,
     "metadata": {},
     "output_type": "execute_result"
    }
   ],
   "source": [
    "text_to_vec(data,(1,2))"
   ]
  },
  {
   "cell_type": "markdown",
   "id": "c69e722d",
   "metadata": {},
   "source": [
    "### Brigrams + Trigrams"
   ]
  },
  {
   "cell_type": "code",
   "execution_count": 25,
   "id": "43528240",
   "metadata": {},
   "outputs": [
    {
     "data": {
      "text/html": [
       "<div>\n",
       "<style scoped>\n",
       "    .dataframe tbody tr th:only-of-type {\n",
       "        vertical-align: middle;\n",
       "    }\n",
       "\n",
       "    .dataframe tbody tr th {\n",
       "        vertical-align: top;\n",
       "    }\n",
       "\n",
       "    .dataframe thead th {\n",
       "        text-align: right;\n",
       "    }\n",
       "</style>\n",
       "<table border=\"1\" class=\"dataframe\">\n",
       "  <thead>\n",
       "    <tr style=\"text-align: right;\">\n",
       "      <th></th>\n",
       "      <th>i love</th>\n",
       "      <th>i love nlp</th>\n",
       "      <th>love nlp</th>\n",
       "    </tr>\n",
       "  </thead>\n",
       "  <tbody>\n",
       "    <tr>\n",
       "      <th>0</th>\n",
       "      <td>1</td>\n",
       "      <td>1</td>\n",
       "      <td>1</td>\n",
       "    </tr>\n",
       "  </tbody>\n",
       "</table>\n",
       "</div>"
      ],
      "text/plain": [
       "   i love  i love nlp  love nlp\n",
       "0       1           1         1"
      ]
     },
     "execution_count": 25,
     "metadata": {},
     "output_type": "execute_result"
    }
   ],
   "source": [
    "text_to_vec(data,(2,3))"
   ]
  },
  {
   "cell_type": "markdown",
   "id": "89ea5350",
   "metadata": {},
   "source": [
    "### Unigrams + Bigrams + Trigrams"
   ]
  },
  {
   "cell_type": "code",
   "execution_count": 26,
   "id": "818e1497",
   "metadata": {},
   "outputs": [
    {
     "data": {
      "text/html": [
       "<div>\n",
       "<style scoped>\n",
       "    .dataframe tbody tr th:only-of-type {\n",
       "        vertical-align: middle;\n",
       "    }\n",
       "\n",
       "    .dataframe tbody tr th {\n",
       "        vertical-align: top;\n",
       "    }\n",
       "\n",
       "    .dataframe thead th {\n",
       "        text-align: right;\n",
       "    }\n",
       "</style>\n",
       "<table border=\"1\" class=\"dataframe\">\n",
       "  <thead>\n",
       "    <tr style=\"text-align: right;\">\n",
       "      <th></th>\n",
       "      <th>i</th>\n",
       "      <th>i love</th>\n",
       "      <th>i love nlp</th>\n",
       "      <th>love</th>\n",
       "      <th>love nlp</th>\n",
       "      <th>nlp</th>\n",
       "    </tr>\n",
       "  </thead>\n",
       "  <tbody>\n",
       "    <tr>\n",
       "      <th>0</th>\n",
       "      <td>1</td>\n",
       "      <td>1</td>\n",
       "      <td>1</td>\n",
       "      <td>1</td>\n",
       "      <td>1</td>\n",
       "      <td>1</td>\n",
       "    </tr>\n",
       "  </tbody>\n",
       "</table>\n",
       "</div>"
      ],
      "text/plain": [
       "   i  i love  i love nlp  love  love nlp  nlp\n",
       "0  1       1           1     1         1    1"
      ]
     },
     "execution_count": 26,
     "metadata": {},
     "output_type": "execute_result"
    }
   ],
   "source": [
    "text_to_vec(data,(1,3))"
   ]
  }
 ],
 "metadata": {
  "kernelspec": {
   "display_name": "nlp_env",
   "language": "python",
   "name": "python3"
  },
  "language_info": {
   "codemirror_mode": {
    "name": "ipython",
    "version": 3
   },
   "file_extension": ".py",
   "mimetype": "text/x-python",
   "name": "python",
   "nbconvert_exporter": "python",
   "pygments_lexer": "ipython3",
   "version": "3.10.18"
  }
 },
 "nbformat": 4,
 "nbformat_minor": 5
}
