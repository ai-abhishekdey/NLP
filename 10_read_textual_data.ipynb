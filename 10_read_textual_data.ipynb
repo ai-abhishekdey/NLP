{
 "cells": [
  {
   "cell_type": "markdown",
   "id": "601c0f30",
   "metadata": {},
   "source": [
    "## Read textual data \n",
    "\n",
    "**Author: Abhishek Dey**"
   ]
  },
  {
   "cell_type": "markdown",
   "id": "dc6876ef",
   "metadata": {},
   "source": [
    "## Install langchain-community"
   ]
  },
  {
   "cell_type": "code",
   "execution_count": 3,
   "id": "9af1e0c3",
   "metadata": {},
   "outputs": [
    {
     "name": "stdout",
     "output_type": "stream",
     "text": [
      "Defaulting to user installation because normal site-packages is not writeable\n",
      "Requirement already satisfied: langchain-community in /home/abhishek/.local/lib/python3.10/site-packages (0.2.12)\n",
      "Requirement already satisfied: PyYAML>=5.3 in /home/abhishek/.local/lib/python3.10/site-packages (from langchain-community) (6.0.2)\n",
      "Requirement already satisfied: SQLAlchemy<3,>=1.4 in /home/abhishek/.local/lib/python3.10/site-packages (from langchain-community) (2.0.32)\n",
      "Requirement already satisfied: aiohttp<4.0.0,>=3.8.3 in /home/abhishek/.local/lib/python3.10/site-packages (from langchain-community) (3.10.2)\n",
      "Requirement already satisfied: dataclasses-json<0.7,>=0.5.7 in /home/abhishek/.local/lib/python3.10/site-packages (from langchain-community) (0.6.7)\n",
      "Requirement already satisfied: langchain<0.3.0,>=0.2.13 in /home/abhishek/.local/lib/python3.10/site-packages (from langchain-community) (0.2.14)\n",
      "Requirement already satisfied: langchain-core<0.3.0,>=0.2.30 in /home/abhishek/.local/lib/python3.10/site-packages (from langchain-community) (0.2.43)\n",
      "Requirement already satisfied: langsmith<0.2.0,>=0.1.0 in /home/abhishek/.local/lib/python3.10/site-packages (from langchain-community) (0.1.147)\n",
      "Requirement already satisfied: numpy<2,>=1 in /home/abhishek/.local/lib/python3.10/site-packages (from langchain-community) (1.26.4)\n",
      "Requirement already satisfied: requests<3,>=2 in /home/abhishek/.local/lib/python3.10/site-packages (from langchain-community) (2.32.3)\n",
      "Requirement already satisfied: tenacity!=8.4.0,<9.0.0,>=8.1.0 in /home/abhishek/.local/lib/python3.10/site-packages (from langchain-community) (8.5.0)\n",
      "Requirement already satisfied: aiohappyeyeballs>=2.3.0 in /home/abhishek/.local/lib/python3.10/site-packages (from aiohttp<4.0.0,>=3.8.3->langchain-community) (2.3.5)\n",
      "Requirement already satisfied: aiosignal>=1.1.2 in /home/abhishek/.local/lib/python3.10/site-packages (from aiohttp<4.0.0,>=3.8.3->langchain-community) (1.3.1)\n",
      "Requirement already satisfied: attrs>=17.3.0 in /home/abhishek/.local/lib/python3.10/site-packages (from aiohttp<4.0.0,>=3.8.3->langchain-community) (25.1.0)\n",
      "Requirement already satisfied: frozenlist>=1.1.1 in /home/abhishek/.local/lib/python3.10/site-packages (from aiohttp<4.0.0,>=3.8.3->langchain-community) (1.4.1)\n",
      "Requirement already satisfied: multidict<7.0,>=4.5 in /home/abhishek/.local/lib/python3.10/site-packages (from aiohttp<4.0.0,>=3.8.3->langchain-community) (6.0.5)\n",
      "Requirement already satisfied: yarl<2.0,>=1.0 in /home/abhishek/.local/lib/python3.10/site-packages (from aiohttp<4.0.0,>=3.8.3->langchain-community) (1.9.4)\n",
      "Requirement already satisfied: async-timeout<5.0,>=4.0 in /home/abhishek/.local/lib/python3.10/site-packages (from aiohttp<4.0.0,>=3.8.3->langchain-community) (4.0.3)\n",
      "Requirement already satisfied: marshmallow<4.0.0,>=3.18.0 in /home/abhishek/.local/lib/python3.10/site-packages (from dataclasses-json<0.7,>=0.5.7->langchain-community) (3.21.3)\n",
      "Requirement already satisfied: typing-inspect<1,>=0.4.0 in /home/abhishek/.local/lib/python3.10/site-packages (from dataclasses-json<0.7,>=0.5.7->langchain-community) (0.9.0)\n",
      "Requirement already satisfied: langchain-text-splitters<0.3.0,>=0.2.0 in /home/abhishek/.local/lib/python3.10/site-packages (from langchain<0.3.0,>=0.2.13->langchain-community) (0.2.2)\n",
      "Requirement already satisfied: pydantic<3,>=1 in /home/abhishek/.local/lib/python3.10/site-packages (from langchain<0.3.0,>=0.2.13->langchain-community) (2.10.6)\n",
      "Requirement already satisfied: jsonpatch<2.0,>=1.33 in /home/abhishek/.local/lib/python3.10/site-packages (from langchain-core<0.3.0,>=0.2.30->langchain-community) (1.33)\n",
      "Requirement already satisfied: packaging<25,>=23.2 in /home/abhishek/.local/lib/python3.10/site-packages (from langchain-core<0.3.0,>=0.2.30->langchain-community) (24.1)\n",
      "Requirement already satisfied: typing-extensions>=4.7 in /home/abhishek/.local/lib/python3.10/site-packages (from langchain-core<0.3.0,>=0.2.30->langchain-community) (4.12.2)\n",
      "Requirement already satisfied: httpx<1,>=0.23.0 in /home/abhishek/.local/lib/python3.10/site-packages (from langsmith<0.2.0,>=0.1.0->langchain-community) (0.27.0)\n",
      "Requirement already satisfied: orjson<4.0.0,>=3.9.14 in /home/abhishek/.local/lib/python3.10/site-packages (from langsmith<0.2.0,>=0.1.0->langchain-community) (3.10.7)\n",
      "Requirement already satisfied: requests-toolbelt<2.0.0,>=1.0.0 in /home/abhishek/.local/lib/python3.10/site-packages (from langsmith<0.2.0,>=0.1.0->langchain-community) (1.0.0)\n",
      "Requirement already satisfied: charset-normalizer<4,>=2 in /home/abhishek/.local/lib/python3.10/site-packages (from requests<3,>=2->langchain-community) (2.1.1)\n",
      "Requirement already satisfied: idna<4,>=2.5 in /home/abhishek/.local/lib/python3.10/site-packages (from requests<3,>=2->langchain-community) (3.7)\n",
      "Requirement already satisfied: urllib3<3,>=1.21.1 in /home/abhishek/.local/lib/python3.10/site-packages (from requests<3,>=2->langchain-community) (1.26.20)\n",
      "Requirement already satisfied: certifi>=2017.4.17 in /home/abhishek/.local/lib/python3.10/site-packages (from requests<3,>=2->langchain-community) (2024.7.4)\n",
      "Requirement already satisfied: greenlet!=0.4.17 in /home/abhishek/.local/lib/python3.10/site-packages (from SQLAlchemy<3,>=1.4->langchain-community) (3.0.3)\n",
      "Requirement already satisfied: anyio in /home/abhishek/.local/lib/python3.10/site-packages (from httpx<1,>=0.23.0->langsmith<0.2.0,>=0.1.0->langchain-community) (3.6.2)\n",
      "Requirement already satisfied: httpcore==1.* in /home/abhishek/.local/lib/python3.10/site-packages (from httpx<1,>=0.23.0->langsmith<0.2.0,>=0.1.0->langchain-community) (1.0.5)\n",
      "Requirement already satisfied: sniffio in /home/abhishek/.local/lib/python3.10/site-packages (from httpx<1,>=0.23.0->langsmith<0.2.0,>=0.1.0->langchain-community) (1.3.0)\n",
      "Requirement already satisfied: h11<0.15,>=0.13 in /home/abhishek/.local/lib/python3.10/site-packages (from httpcore==1.*->httpx<1,>=0.23.0->langsmith<0.2.0,>=0.1.0->langchain-community) (0.14.0)\n",
      "Requirement already satisfied: jsonpointer>=1.9 in /home/abhishek/.local/lib/python3.10/site-packages (from jsonpatch<2.0,>=1.33->langchain-core<0.3.0,>=0.2.30->langchain-community) (2.3)\n",
      "Requirement already satisfied: annotated-types>=0.6.0 in /home/abhishek/.local/lib/python3.10/site-packages (from pydantic<3,>=1->langchain<0.3.0,>=0.2.13->langchain-community) (0.6.0)\n",
      "Requirement already satisfied: pydantic-core==2.27.2 in /home/abhishek/.local/lib/python3.10/site-packages (from pydantic<3,>=1->langchain<0.3.0,>=0.2.13->langchain-community) (2.27.2)\n",
      "Requirement already satisfied: mypy-extensions>=0.3.0 in /home/abhishek/.local/lib/python3.10/site-packages (from typing-inspect<1,>=0.4.0->dataclasses-json<0.7,>=0.5.7->langchain-community) (1.0.0)\n",
      "\u001b[33mWARNING: Error parsing dependencies of textract: .* suffix can only be used with `==` or `!=` operators\n",
      "    extract-msg (<=0.29.*)\n",
      "                 ~~~~~~~^\u001b[0m\u001b[33m\n",
      "\u001b[0m\n",
      "\u001b[1m[\u001b[0m\u001b[34;49mnotice\u001b[0m\u001b[1;39;49m]\u001b[0m\u001b[39;49m A new release of pip is available: \u001b[0m\u001b[31;49m25.0\u001b[0m\u001b[39;49m -> \u001b[0m\u001b[32;49m25.0.1\u001b[0m\n",
      "\u001b[1m[\u001b[0m\u001b[34;49mnotice\u001b[0m\u001b[1;39;49m]\u001b[0m\u001b[39;49m To update, run: \u001b[0m\u001b[32;49mpython3 -m pip install --upgrade pip\u001b[0m\n"
     ]
    }
   ],
   "source": [
    "!pip3 install langchain-community"
   ]
  },
  {
   "cell_type": "markdown",
   "id": "d7a8972e",
   "metadata": {},
   "source": [
    "## Set document paths"
   ]
  },
  {
   "cell_type": "code",
   "execution_count": 4,
   "id": "dcac99bb",
   "metadata": {},
   "outputs": [],
   "source": [
    "text_file=\"sample_docs/sample.txt\"\n",
    "pdf_file=\"sample_docs/sample.pdf\"\n",
    "md_file=\"sample_docs/sample.md\"\n",
    "\n",
    "json_file=\"sample_docs/sample.json\"\n",
    "csv_file=\"sample_docs/sample.csv\""
   ]
  },
  {
   "cell_type": "markdown",
   "id": "563c91db",
   "metadata": {},
   "source": [
    "## Read text data (.txt)"
   ]
  },
  {
   "cell_type": "code",
   "execution_count": 5,
   "id": "95ae7eca",
   "metadata": {},
   "outputs": [],
   "source": [
    "from langchain_community.document_loaders import TextLoader\n",
    "\n",
    "loader = TextLoader(text_file)\n",
    "text_data = loader.load()"
   ]
  },
  {
   "cell_type": "code",
   "execution_count": 6,
   "id": "bbd21993",
   "metadata": {},
   "outputs": [
    {
     "data": {
      "text/plain": [
       "[Document(metadata={'source': 'sample_docs/sample.txt'}, page_content=\"India is a diverse and vibrant country in South Asia, known for its rich history, cultural heritage, and traditions. It is the world's largest democracy and the seventh-largest nation by area. Home to over 1.4 billion people, India embraces a variety of languages, religions, and customs. It has given birth to major religions like Hinduism, Buddhism, Jainism, and Sikhism. India is also a rising global power in technology and space exploration. From the Himalayas to tropical beaches, its landscapes are as varied as its festivals, music, and cuisine, making India a truly unique and colorful nation.\\n\")]"
      ]
     },
     "execution_count": 6,
     "metadata": {},
     "output_type": "execute_result"
    }
   ],
   "source": [
    "text_data"
   ]
  },
  {
   "cell_type": "markdown",
   "id": "09d745d6",
   "metadata": {},
   "source": [
    "## Read markdown data (.md)"
   ]
  },
  {
   "cell_type": "code",
   "execution_count": 7,
   "id": "78702ec0",
   "metadata": {},
   "outputs": [],
   "source": [
    "from langchain_community.document_loaders import TextLoader\n",
    "\n",
    "loader = TextLoader(md_file)\n",
    "md_data = loader.load()"
   ]
  },
  {
   "cell_type": "code",
   "execution_count": 8,
   "id": "bd55b4d1",
   "metadata": {},
   "outputs": [
    {
     "data": {
      "text/plain": [
       "[Document(metadata={'source': 'sample_docs/sample.md'}, page_content=\"# Football: The Beautiful Game\\n\\n## Introduction\\nFootball, also known as soccer in some countries, is the most popular sport worldwide. Played between two teams of eleven players, the objective is to score goals by getting the ball into the opponent's net.\\n\\n## Key Skills\\nFootball requires skills like dribbling, passing, shooting, and defending. Players must be strategic and work together to control the ball and score.\\n\\n## Famous Tournaments\\n### FIFA World Cup\\nThe FIFA World Cup is the most prestigious football tournament, held every four years and watched by millions worldwide.\\n\\n### UEFA Champions League\\nThe UEFA Champions League is a European club competition that brings together the best teams from various leagues.\\n\\n## Legendary Players\\nFootball has produced many legends such as **Lionel Messi**, **Cristiano Ronaldo**, and **Pelé**, who have inspired millions of fans globally.\\n\\n## Conclusion\\nFootball brings people together, uniting nations with its exciting matches and vibrant fan base.\\n\\n\")]"
      ]
     },
     "execution_count": 8,
     "metadata": {},
     "output_type": "execute_result"
    }
   ],
   "source": [
    "md_data"
   ]
  },
  {
   "cell_type": "markdown",
   "id": "8051d553",
   "metadata": {},
   "source": [
    "## Read csv data (.csv)"
   ]
  },
  {
   "cell_type": "code",
   "execution_count": 9,
   "id": "d2f18446",
   "metadata": {},
   "outputs": [],
   "source": [
    "from langchain_community.document_loaders import CSVLoader\n",
    "\n",
    "loader = CSVLoader(csv_file)\n",
    "csv_data = loader.load()"
   ]
  },
  {
   "cell_type": "code",
   "execution_count": 10,
   "id": "09b496ce",
   "metadata": {},
   "outputs": [
    {
     "data": {
      "text/plain": [
       "[Document(metadata={'source': 'sample_docs/sample.csv', 'row': 0}, page_content='country: India\\ncapital: New Delhi\\nnational_language: Hindi'),\n",
       " Document(metadata={'source': 'sample_docs/sample.csv', 'row': 1}, page_content='country: France\\ncapital: Paris\\nnational_language: French'),\n",
       " Document(metadata={'source': 'sample_docs/sample.csv', 'row': 2}, page_content='country: Japan\\ncapital: Tokyo\\nnational_language: Japanese'),\n",
       " Document(metadata={'source': 'sample_docs/sample.csv', 'row': 3}, page_content='country: Brazil\\ncapital: Brasília\\nnational_language: Portuguese'),\n",
       " Document(metadata={'source': 'sample_docs/sample.csv', 'row': 4}, page_content='country: Egypt\\ncapital: Cairo\\nnational_language: Arabic')]"
      ]
     },
     "execution_count": 10,
     "metadata": {},
     "output_type": "execute_result"
    }
   ],
   "source": [
    "csv_data"
   ]
  },
  {
   "cell_type": "markdown",
   "id": "f5083562",
   "metadata": {},
   "source": [
    "## Read PDF data (.pdf)"
   ]
  },
  {
   "cell_type": "code",
   "execution_count": 11,
   "id": "3be06f80",
   "metadata": {},
   "outputs": [],
   "source": [
    "from langchain_community.document_loaders import PyPDFLoader\n",
    "\n",
    "loader = PyPDFLoader(pdf_file)\n",
    "\n",
    "pdf_data = loader.load()"
   ]
  },
  {
   "cell_type": "code",
   "execution_count": 12,
   "id": "07413d25",
   "metadata": {},
   "outputs": [
    {
     "data": {
      "text/plain": [
       "[Document(metadata={'source': 'sample_docs/sample.pdf', 'page': 0}, page_content='Cricket is a popular sport played across the world, especially in countries like India, Australia, \\nEngland, and Pakistan. It is played between two teams of eleven players each, with the objective of \\nscoring more runs than the opponent. The game consists of different formats, including Test \\nmatches, One-Day Internationals (ODIs), and Twenty20 (T20) cricket. Cricket requires skill, \\nstrategy, and teamwork, with players taking turns to bat, bowl, and field. It has a passionate fan base\\nand has produced legendary players like Sachin Tendulkar, Virat Kohli, and Sir Donald Bradman, \\nmaking it a truly global sport.')]"
      ]
     },
     "execution_count": 12,
     "metadata": {},
     "output_type": "execute_result"
    }
   ],
   "source": [
    "pdf_data"
   ]
  },
  {
   "cell_type": "markdown",
   "id": "c9f35eb3",
   "metadata": {},
   "source": [
    "## Read JSON data (.json)"
   ]
  },
  {
   "cell_type": "code",
   "execution_count": 19,
   "id": "4d5fe04f",
   "metadata": {},
   "outputs": [],
   "source": [
    "from langchain_community.document_loaders import JSONLoader\n",
    "\n",
    "loader = JSONLoader(json_file,\n",
    "                    jq_schema='map({country: .country, capital: .capital, national_language: .national_language})',\n",
    "                    text_content=False)\n",
    "\n",
    "json_data = loader.load()"
   ]
  },
  {
   "cell_type": "code",
   "execution_count": 20,
   "id": "fe993920",
   "metadata": {},
   "outputs": [
    {
     "data": {
      "text/plain": [
       "[Document(metadata={'source': '/home/abhishek/Abhishek_Workspace/NLP/NLP_FUNDAMENTALS/sample_docs/sample.json', 'seq_num': 1}, page_content=\"[{'country': 'India', 'capital': 'New Delhi', 'national_language': 'Hindi'}, {'country': 'France', 'capital': 'Paris', 'national_language': 'French'}, {'country': 'Japan', 'capital': 'Tokyo', 'national_language': 'Japanese'}, {'country': 'Brazil', 'capital': 'Brasília', 'national_language': 'Portuguese'}, {'country': 'Egypt', 'capital': 'Cairo', 'national_language': 'Arabic'}]\")]"
      ]
     },
     "execution_count": 20,
     "metadata": {},
     "output_type": "execute_result"
    }
   ],
   "source": [
    "json_data"
   ]
  },
  {
   "cell_type": "markdown",
   "id": "af3d69a4",
   "metadata": {},
   "source": [
    "## Combined data"
   ]
  },
  {
   "cell_type": "code",
   "execution_count": 21,
   "id": "fdb9aac2",
   "metadata": {},
   "outputs": [],
   "source": [
    "corpus=[text_data, md_data, csv_data, pdf_data, json_data]"
   ]
  },
  {
   "cell_type": "code",
   "execution_count": 24,
   "id": "e2d85161",
   "metadata": {},
   "outputs": [],
   "source": [
    "combined_data = []\n",
    "\n",
    "for doc in corpus:\n",
    "    combined_data.extend(doc)"
   ]
  },
  {
   "cell_type": "code",
   "execution_count": null,
   "id": "490fa39b",
   "metadata": {},
   "outputs": [],
   "source": []
  }
 ],
 "metadata": {
  "kernelspec": {
   "display_name": "Python 3 (ipykernel)",
   "language": "python",
   "name": "python3"
  },
  "language_info": {
   "codemirror_mode": {
    "name": "ipython",
    "version": 3
   },
   "file_extension": ".py",
   "mimetype": "text/x-python",
   "name": "python",
   "nbconvert_exporter": "python",
   "pygments_lexer": "ipython3",
   "version": "3.10.12"
  }
 },
 "nbformat": 4,
 "nbformat_minor": 5
}
