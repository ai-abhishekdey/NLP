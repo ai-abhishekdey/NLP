{
 "cells": [
  {
   "cell_type": "markdown",
   "id": "7699ff32",
   "metadata": {},
   "source": [
    "### Term Frequency - Inverse Document frequency (TF-IDF)\n",
    "\n",
    "**Author : Abhishek Dey**"
   ]
  },
  {
   "cell_type": "markdown",
   "id": "07362292",
   "metadata": {},
   "source": [
    "### Import libraries"
   ]
  },
  {
   "cell_type": "code",
   "execution_count": null,
   "id": "8050bcf0",
   "metadata": {},
   "outputs": [],
   "source": [
    "import pandas as \n",
    "from sk"
   ]
  },
  {
   "cell_type": "code",
   "execution_count": null,
   "id": "226f4c64",
   "metadata": {},
   "outputs": [],
   "source": []
  }
 ],
 "metadata": {
  "kernelspec": {
   "display_name": "nlp_env",
   "language": "python",
   "name": "python3"
  },
  "language_info": {
   "codemirror_mode": {
    "name": "ipython",
    "version": 3
   },
   "file_extension": ".py",
   "mimetype": "text/x-python",
   "name": "python",
   "nbconvert_exporter": "python",
   "pygments_lexer": "ipython3",
   "version": "3.10.18"
  }
 },
 "nbformat": 4,
 "nbformat_minor": 5
}
