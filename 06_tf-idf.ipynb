{
 "cells": [
  {
   "cell_type": "markdown",
   "id": "7699ff32",
   "metadata": {},
   "source": [
    "### Term Frequency - Inverse Document frequency (TF-IDF)\n",
    "\n",
    "**Author : Abhishek Dey**"
   ]
  },
  {
   "cell_type": "markdown",
   "id": "07362292",
   "metadata": {},
   "source": [
    "### Import libraries"
   ]
  },
  {
   "cell_type": "code",
   "execution_count": 14,
   "id": "8050bcf0",
   "metadata": {},
   "outputs": [],
   "source": [
    "import pandas as pd\n",
    "from sklearn.feature_extraction.text import TfidfVectorizer"
   ]
  },
  {
   "cell_type": "markdown",
   "id": "4bc949b7",
   "metadata": {},
   "source": [
    "### Data"
   ]
  },
  {
   "cell_type": "code",
   "execution_count": 11,
   "id": "226f4c64",
   "metadata": {},
   "outputs": [
    {
     "data": {
      "text/plain": [
       "['I love NLP', 'NLP is fun and NLP is coding', 'I love NLP and Coding']"
      ]
     },
     "execution_count": 11,
     "metadata": {},
     "output_type": "execute_result"
    }
   ],
   "source": [
    "data = ['I love NLP', 'NLP is fun and NLP is coding', 'I love NLP and Coding']\n",
    "\n",
    "data"
   ]
  },
  {
   "cell_type": "markdown",
   "id": "db7695db",
   "metadata": {},
   "source": [
    "### TF-IDF"
   ]
  },
  {
   "cell_type": "code",
   "execution_count": 27,
   "id": "04ffe9e9",
   "metadata": {},
   "outputs": [],
   "source": [
    "tfidf = TfidfVectorizer(token_pattern=r\"(?u)\\b\\w+\\b\")\n",
    "vectors = tfidf.fit_transform(data)\n",
    "vectors = vectors.toarray()\n",
    "\n",
    "features=tfidf.get_feature_names_out()\n",
    "\n",
    "df=pd.DataFrame(vectors,columns=features)\n"
   ]
  },
  {
   "cell_type": "code",
   "execution_count": 28,
   "id": "5186fc49",
   "metadata": {},
   "outputs": [
    {
     "data": {
      "text/plain": [
       "['I love NLP', 'NLP is fun and NLP is coding', 'I love NLP and Coding']"
      ]
     },
     "execution_count": 28,
     "metadata": {},
     "output_type": "execute_result"
    }
   ],
   "source": [
    "data"
   ]
  },
  {
   "cell_type": "code",
   "execution_count": 29,
   "id": "debef9a7",
   "metadata": {},
   "outputs": [
    {
     "data": {
      "text/html": [
       "<div>\n",
       "<style scoped>\n",
       "    .dataframe tbody tr th:only-of-type {\n",
       "        vertical-align: middle;\n",
       "    }\n",
       "\n",
       "    .dataframe tbody tr th {\n",
       "        vertical-align: top;\n",
       "    }\n",
       "\n",
       "    .dataframe thead th {\n",
       "        text-align: right;\n",
       "    }\n",
       "</style>\n",
       "<table border=\"1\" class=\"dataframe\">\n",
       "  <thead>\n",
       "    <tr style=\"text-align: right;\">\n",
       "      <th></th>\n",
       "      <th>and</th>\n",
       "      <th>coding</th>\n",
       "      <th>fun</th>\n",
       "      <th>i</th>\n",
       "      <th>is</th>\n",
       "      <th>love</th>\n",
       "      <th>nlp</th>\n",
       "    </tr>\n",
       "  </thead>\n",
       "  <tbody>\n",
       "    <tr>\n",
       "      <th>0</th>\n",
       "      <td>0.000000</td>\n",
       "      <td>0.000000</td>\n",
       "      <td>0.000000</td>\n",
       "      <td>0.619805</td>\n",
       "      <td>0.000000</td>\n",
       "      <td>0.619805</td>\n",
       "      <td>0.481334</td>\n",
       "    </tr>\n",
       "    <tr>\n",
       "      <th>1</th>\n",
       "      <td>0.276745</td>\n",
       "      <td>0.276745</td>\n",
       "      <td>0.363886</td>\n",
       "      <td>0.000000</td>\n",
       "      <td>0.727773</td>\n",
       "      <td>0.000000</td>\n",
       "      <td>0.429834</td>\n",
       "    </tr>\n",
       "    <tr>\n",
       "      <th>2</th>\n",
       "      <td>0.466096</td>\n",
       "      <td>0.466096</td>\n",
       "      <td>0.000000</td>\n",
       "      <td>0.466096</td>\n",
       "      <td>0.000000</td>\n",
       "      <td>0.466096</td>\n",
       "      <td>0.361965</td>\n",
       "    </tr>\n",
       "  </tbody>\n",
       "</table>\n",
       "</div>"
      ],
      "text/plain": [
       "        and    coding       fun         i        is      love       nlp\n",
       "0  0.000000  0.000000  0.000000  0.619805  0.000000  0.619805  0.481334\n",
       "1  0.276745  0.276745  0.363886  0.000000  0.727773  0.000000  0.429834\n",
       "2  0.466096  0.466096  0.000000  0.466096  0.000000  0.466096  0.361965"
      ]
     },
     "execution_count": 29,
     "metadata": {},
     "output_type": "execute_result"
    }
   ],
   "source": [
    "df"
   ]
  }
 ],
 "metadata": {
  "kernelspec": {
   "display_name": "nlp_env",
   "language": "python",
   "name": "python3"
  },
  "language_info": {
   "codemirror_mode": {
    "name": "ipython",
    "version": 3
   },
   "file_extension": ".py",
   "mimetype": "text/x-python",
   "name": "python",
   "nbconvert_exporter": "python",
   "pygments_lexer": "ipython3",
   "version": "3.10.18"
  }
 },
 "nbformat": 4,
 "nbformat_minor": 5
}
