{
 "cells": [
  {
   "cell_type": "markdown",
   "id": "96163556",
   "metadata": {},
   "source": [
    "## Word2vec using gensim library\n",
    "\n",
    "**Author: Abhishek Dey**\n"
   ]
  },
  {
   "cell_type": "markdown",
   "id": "6f3a2b2a",
   "metadata": {},
   "source": [
    "* **Word2Vec** is a popular technique in Natural Language Processing (NLP) used to convert words into numerical vectors such that words with similar meanings have similar vector representations\n",
    "\n",
    "* There are two main word2vec architectures:\n",
    "\n",
    "    * **CBOW (Continuous Bag of Words):**\n",
    "\n",
    "        Predicts the current word based on its context (surrounding words).\n",
    "\n",
    "        Example: Given The cat ___ on the mat, predict sat.\n",
    "\n",
    "    * **Skip-Gram:**\n",
    "\n",
    "        Predicts surrounding context words given a current word.\n",
    "\n",
    "        Example: Given sat, predict The, cat, on, the, mat.\n",
    "\n"
   ]
  },
  {
   "cell_type": "markdown",
   "id": "847aea65",
   "metadata": {},
   "source": [
    "### Import libraries"
   ]
  },
  {
   "cell_type": "code",
   "execution_count": 55,
   "id": "a54923b5",
   "metadata": {},
   "outputs": [],
   "source": [
    "import gensim\n",
    "from gensim.models import Word2Vec\n",
    "from nltk import word_tokenize\n",
    "from textacy import preprocessing as tp"
   ]
  },
  {
   "cell_type": "markdown",
   "id": "c592926f",
   "metadata": {},
   "source": [
    "### Data"
   ]
  },
  {
   "cell_type": "code",
   "execution_count": 56,
   "id": "f9870b4e",
   "metadata": {},
   "outputs": [],
   "source": [
    "data = ['He loves music', 'She like songs', 'She enjoys music', 'He likes music', 'She loves songs']"
   ]
  },
  {
   "cell_type": "markdown",
   "id": "b405a056",
   "metadata": {},
   "source": [
    "### Text pre-processing"
   ]
  },
  {
   "cell_type": "code",
   "execution_count": 57,
   "id": "bf52c29a",
   "metadata": {},
   "outputs": [],
   "source": [
    "def text_preprocessing(text):\n",
    "    \n",
    "    text = tp.remove.punctuation(text)\n",
    "    text = tp.normalize.whitespace(text)\n",
    "    text = text.lower()\n",
    "    \n",
    "    return text"
   ]
  },
  {
   "cell_type": "markdown",
   "id": "f84aea3c",
   "metadata": {},
   "source": [
    "### Filtered data"
   ]
  },
  {
   "cell_type": "code",
   "execution_count": 58,
   "id": "c3b92ef6",
   "metadata": {},
   "outputs": [],
   "source": [
    "filtered_data = [text_preprocessing(text) for text in data]"
   ]
  },
  {
   "cell_type": "code",
   "execution_count": 59,
   "id": "f2c2a823",
   "metadata": {},
   "outputs": [
    {
     "data": {
      "text/plain": [
       "['he loves music',\n",
       " 'she like songs',\n",
       " 'she enjoys music',\n",
       " 'he likes music',\n",
       " 'she loves songs']"
      ]
     },
     "execution_count": 59,
     "metadata": {},
     "output_type": "execute_result"
    }
   ],
   "source": [
    "filtered_data"
   ]
  },
  {
   "cell_type": "markdown",
   "id": "6b11845a",
   "metadata": {},
   "source": [
    "### Tokenised data"
   ]
  },
  {
   "cell_type": "code",
   "execution_count": 60,
   "id": "9c85d023",
   "metadata": {},
   "outputs": [
    {
     "data": {
      "text/plain": [
       "[['he', 'loves', 'music'],\n",
       " ['she', 'like', 'songs'],\n",
       " ['she', 'enjoys', 'music'],\n",
       " ['he', 'likes', 'music'],\n",
       " ['she', 'loves', 'songs']]"
      ]
     },
     "execution_count": 60,
     "metadata": {},
     "output_type": "execute_result"
    }
   ],
   "source": [
    "tokenised_data = [word_tokenize(text) for text in filtered_data]\n",
    "\n",
    "tokenised_data"
   ]
  },
  {
   "cell_type": "markdown",
   "id": "5e5310e7",
   "metadata": {},
   "source": [
    "### Word2vec - Skip gram "
   ]
  },
  {
   "cell_type": "code",
   "execution_count": 61,
   "id": "1c8668d8",
   "metadata": {},
   "outputs": [],
   "source": [
    "model_skip_gram = Word2Vec(tokenised_data, vector_size=50, window=2, min_count=1, sg=1)"
   ]
  },
  {
   "cell_type": "markdown",
   "id": "7afead91",
   "metadata": {},
   "source": [
    "### Word2vec - Cbow"
   ]
  },
  {
   "cell_type": "code",
   "execution_count": 62,
   "id": "3a5e0309",
   "metadata": {},
   "outputs": [],
   "source": [
    "model_cbow = Word2Vec(tokenised_data, vector_size=50, window=2, min_count=1, sg=0)"
   ]
  },
  {
   "cell_type": "code",
   "execution_count": 63,
   "id": "c0ea5a6a",
   "metadata": {},
   "outputs": [
    {
     "data": {
      "text/plain": [
       "array([ 0.00018913,  0.00615464, -0.01362529, -0.00275093,  0.01533716,\n",
       "        0.01469282, -0.00734659,  0.0052854 , -0.01663426,  0.01241097,\n",
       "       -0.00927464, -0.00632821,  0.01862271,  0.00174677,  0.01498141,\n",
       "       -0.01214813,  0.01032101,  0.01984565, -0.01691478, -0.01027138,\n",
       "       -0.01412967, -0.0097253 , -0.00755713, -0.0170724 ,  0.01591121,\n",
       "       -0.00968788,  0.01684723,  0.01052514, -0.01310005,  0.00791574,\n",
       "        0.0109403 , -0.01485307, -0.01481144, -0.00495046, -0.01725145,\n",
       "       -0.00316314, -0.00080687,  0.00659937,  0.00288376, -0.00176284,\n",
       "       -0.01118812,  0.00346073, -0.00179474,  0.01358738,  0.00794718,\n",
       "        0.00905894,  0.00286861, -0.00539971, -0.00873363, -0.00206415],\n",
       "      dtype=float32)"
      ]
     },
     "execution_count": 63,
     "metadata": {},
     "output_type": "execute_result"
    }
   ],
   "source": [
    "vector = model_cbow.wv['he']\n",
    "\n",
    "vector"
   ]
  },
  {
   "cell_type": "markdown",
   "id": "737752a6",
   "metadata": {},
   "source": [
    "### Similar / nearby word"
   ]
  },
  {
   "cell_type": "code",
   "execution_count": 64,
   "id": "c868d10b",
   "metadata": {},
   "outputs": [
    {
     "data": {
      "text/plain": [
       "('enjoys', 0.18339458107948303)"
      ]
     },
     "execution_count": 64,
     "metadata": {},
     "output_type": "execute_result"
    }
   ],
   "source": [
    "similar_word = model_cbow.wv.most_similar(\"likes\")[0]\n",
    "\n",
    "similar_word"
   ]
  },
  {
   "cell_type": "code",
   "execution_count": 65,
   "id": "18907746",
   "metadata": {},
   "outputs": [
    {
     "data": {
      "text/plain": [
       "('likes', 0.18339456617832184)"
      ]
     },
     "execution_count": 65,
     "metadata": {},
     "output_type": "execute_result"
    }
   ],
   "source": [
    "similar_word = model_cbow.wv.most_similar(\"enjoys\")[0]\n",
    "\n",
    "similar_word"
   ]
  },
  {
   "cell_type": "code",
   "execution_count": 66,
   "id": "07fd856a",
   "metadata": {},
   "outputs": [
    {
     "data": {
      "text/plain": [
       "('like', 0.0449172779917717)"
      ]
     },
     "execution_count": 66,
     "metadata": {},
     "output_type": "execute_result"
    }
   ],
   "source": [
    "similar_word = model_cbow.wv.most_similar(\"loves\")[0]\n",
    "\n",
    "similar_word"
   ]
  },
  {
   "cell_type": "markdown",
   "id": "a82ac0bb",
   "metadata": {},
   "source": []
  }
 ],
 "metadata": {
  "kernelspec": {
   "display_name": "nlp_env",
   "language": "python",
   "name": "python3"
  },
  "language_info": {
   "codemirror_mode": {
    "name": "ipython",
    "version": 3
   },
   "file_extension": ".py",
   "mimetype": "text/x-python",
   "name": "python",
   "nbconvert_exporter": "python",
   "pygments_lexer": "ipython3",
   "version": "3.10.18"
  }
 },
 "nbformat": 4,
 "nbformat_minor": 5
}
