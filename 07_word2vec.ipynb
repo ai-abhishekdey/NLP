{
 "cells": [
  {
   "cell_type": "markdown",
   "id": "96163556",
   "metadata": {},
   "source": [
    "## Word2vec using gensim library\n",
    "\n",
    "**Author: Abhishek Dey**\n"
   ]
  },
  {
   "cell_type": "markdown",
   "id": "847aea65",
   "metadata": {},
   "source": [
    "### Import libraries"
   ]
  },
  {
   "cell_type": "code",
   "execution_count": null,
   "id": "a54923b5",
   "metadata": {},
   "outputs": [],
   "source": [
    "import gensim\n",
    "import nltk\n",
    "\n"
   ]
  },
  {
   "cell_type": "markdown",
   "id": "a82ac0bb",
   "metadata": {},
   "source": []
  }
 ],
 "metadata": {
  "kernelspec": {
   "display_name": "nlp_env",
   "language": "python",
   "name": "python3"
  },
  "language_info": {
   "codemirror_mode": {
    "name": "ipython",
    "version": 3
   },
   "file_extension": ".py",
   "mimetype": "text/x-python",
   "name": "python",
   "nbconvert_exporter": "python",
   "pygments_lexer": "ipython3",
   "version": "3.10.18"
  }
 },
 "nbformat": 4,
 "nbformat_minor": 5
}
