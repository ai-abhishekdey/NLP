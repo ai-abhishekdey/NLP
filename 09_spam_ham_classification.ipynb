{
 "cells": [
  {
   "cell_type": "markdown",
   "id": "d2ab65e6",
   "metadata": {},
   "source": [
    "### Spam v/s No-spam (ham) comparison with different vectorization techniques\n",
    "\n",
    "**Author: Abhishek Dey**\n",
    "\n",
    "\n",
    "**Problem Statement:** Considering SVM classifier, compare the performance with BOW, N-Gram and TDF vectorization techniques on spam-ham classification task"
   ]
  },
  {
   "cell_type": "markdown",
   "id": "9f0dfd85",
   "metadata": {},
   "source": [
    "### Import Libraries"
   ]
  },
  {
   "cell_type": "code",
   "execution_count": 27,
   "id": "3aa9da4e",
   "metadata": {},
   "outputs": [
    {
     "name": "stderr",
     "output_type": "stream",
     "text": [
      "[nltk_data] Downloading package punkt to /home/abhishek/nltk_data...\n",
      "[nltk_data]   Package punkt is already up-to-date!\n",
      "[nltk_data] Downloading package punkt_tab to\n",
      "[nltk_data]     /home/abhishek/nltk_data...\n",
      "[nltk_data]   Package punkt_tab is already up-to-date!\n",
      "[nltk_data] Downloading package stopwords to\n",
      "[nltk_data]     /home/abhishek/nltk_data...\n",
      "[nltk_data]   Package stopwords is already up-to-date!\n"
     ]
    }
   ],
   "source": [
    "# text preprocessing\n",
    "\n",
    "from textacy import preprocessing as tp\n",
    "import emoji\n",
    "import contractions\n",
    "import string\n",
    "\n",
    "# tokenization & stop words\n",
    "\n",
    "import nltk\n",
    "from nltk import sent_tokenize, word_tokenize\n",
    "from nltk.corpus import stopwords\n",
    "nltk.download('punkt')\n",
    "nltk.download('punkt_tab')\n",
    "nltk.download('stopwords')\n",
    "\n",
    "# BOW, N-gram, TF-IDF\n",
    "\n",
    "import pandas as pd\n",
    "from sklearn.feature_extraction.text import CountVectorizer, TfidfVectorizer\n",
    "\n",
    "# SVM Classifier\n",
    "\n",
    "from sklearn.svm import LinearSVC\n",
    "\n",
    "# Train - Test split\n",
    "\n",
    "from sklearn.model_selection import train_test_split\n",
    "\n",
    "# Scoring Metric\n",
    "\n",
    "from sklearn.metrics import accuracy_score\n",
    "from sklearn.metrics import confusion_matrix, ConfusionMatrixDisplay\n",
    "\n",
    "# Matplotlib\n",
    "\n",
    "import matplotlib.pyplot as plt\n"
   ]
  },
  {
   "cell_type": "markdown",
   "id": "13e32329",
   "metadata": {},
   "source": [
    "### Load data"
   ]
  },
  {
   "cell_type": "code",
   "execution_count": 28,
   "id": "76b50d02",
   "metadata": {},
   "outputs": [
    {
     "data": {
      "text/html": [
       "<div>\n",
       "<style scoped>\n",
       "    .dataframe tbody tr th:only-of-type {\n",
       "        vertical-align: middle;\n",
       "    }\n",
       "\n",
       "    .dataframe tbody tr th {\n",
       "        vertical-align: top;\n",
       "    }\n",
       "\n",
       "    .dataframe thead th {\n",
       "        text-align: right;\n",
       "    }\n",
       "</style>\n",
       "<table border=\"1\" class=\"dataframe\">\n",
       "  <thead>\n",
       "    <tr style=\"text-align: right;\">\n",
       "      <th></th>\n",
       "      <th>Category</th>\n",
       "      <th>Message</th>\n",
       "    </tr>\n",
       "  </thead>\n",
       "  <tbody>\n",
       "    <tr>\n",
       "      <th>0</th>\n",
       "      <td>ham</td>\n",
       "      <td>Go until jurong point, crazy.. Available only ...</td>\n",
       "    </tr>\n",
       "    <tr>\n",
       "      <th>1</th>\n",
       "      <td>ham</td>\n",
       "      <td>Ok lar... Joking wif u oni...</td>\n",
       "    </tr>\n",
       "    <tr>\n",
       "      <th>2</th>\n",
       "      <td>spam</td>\n",
       "      <td>Free entry in 2 a wkly comp to win FA Cup fina...</td>\n",
       "    </tr>\n",
       "    <tr>\n",
       "      <th>3</th>\n",
       "      <td>ham</td>\n",
       "      <td>U dun say so early hor... U c already then say...</td>\n",
       "    </tr>\n",
       "    <tr>\n",
       "      <th>4</th>\n",
       "      <td>ham</td>\n",
       "      <td>Nah I don't think he goes to usf, he lives aro...</td>\n",
       "    </tr>\n",
       "  </tbody>\n",
       "</table>\n",
       "</div>"
      ],
      "text/plain": [
       "  Category                                            Message\n",
       "0      ham  Go until jurong point, crazy.. Available only ...\n",
       "1      ham                      Ok lar... Joking wif u oni...\n",
       "2     spam  Free entry in 2 a wkly comp to win FA Cup fina...\n",
       "3      ham  U dun say so early hor... U c already then say...\n",
       "4      ham  Nah I don't think he goes to usf, he lives aro..."
      ]
     },
     "execution_count": 28,
     "metadata": {},
     "output_type": "execute_result"
    }
   ],
   "source": [
    "data=pd.read_csv('datasets/mail_data.csv')\n",
    "\n",
    "data.head()"
   ]
  },
  {
   "cell_type": "code",
   "execution_count": 29,
   "id": "d5162460",
   "metadata": {},
   "outputs": [
    {
     "data": {
      "text/plain": [
       "(5572, 2)"
      ]
     },
     "execution_count": 29,
     "metadata": {},
     "output_type": "execute_result"
    }
   ],
   "source": [
    "data.shape"
   ]
  },
  {
   "cell_type": "code",
   "execution_count": 30,
   "id": "d3bc1e54",
   "metadata": {},
   "outputs": [],
   "source": [
    "x=list(data['Message'])\n",
    "y=list(data['Category'])"
   ]
  },
  {
   "cell_type": "code",
   "execution_count": 31,
   "id": "fddb4f56",
   "metadata": {},
   "outputs": [
    {
     "data": {
      "text/plain": [
       "['Go until jurong point, crazy.. Available only in bugis n great world la e buffet... Cine there got amore wat...',\n",
       " 'Ok lar... Joking wif u oni...',\n",
       " \"Free entry in 2 a wkly comp to win FA Cup final tkts 21st May 2005. Text FA to 87121 to receive entry question(std txt rate)T&C's apply 08452810075over18's\",\n",
       " 'U dun say so early hor... U c already then say...',\n",
       " \"Nah I don't think he goes to usf, he lives around here though\"]"
      ]
     },
     "execution_count": 31,
     "metadata": {},
     "output_type": "execute_result"
    }
   ],
   "source": [
    "x[0:5]"
   ]
  },
  {
   "cell_type": "code",
   "execution_count": 32,
   "id": "1441b969",
   "metadata": {},
   "outputs": [
    {
     "data": {
      "text/plain": [
       "['ham', 'ham', 'spam', 'ham', 'ham']"
      ]
     },
     "execution_count": 32,
     "metadata": {},
     "output_type": "execute_result"
    }
   ],
   "source": [
    "y[0:5]"
   ]
  },
  {
   "cell_type": "markdown",
   "id": "5eba2368",
   "metadata": {},
   "source": [
    "### Text preprocessing"
   ]
  },
  {
   "cell_type": "code",
   "execution_count": 33,
   "id": "5a531075",
   "metadata": {},
   "outputs": [],
   "source": [
    "def text_preprocess(text):\n",
    "    \n",
    "    \n",
    "    text = tp.remove.html_tags(text)\n",
    "    text = tp.replace.urls(text,'')\n",
    "    text = tp.replace.currency_symbols(text,'')\n",
    "    text = tp.replace.emails(text,'')\n",
    "    text = tp.replace.phone_numbers(text,'*')\n",
    "    text = tp.replace.hashtags(text,'')\n",
    "    text = tp.replace.numbers(text,'*')\n",
    "    text = text.translate(str.maketrans(\"\",\"\",string.punctuation))\n",
    "    text = emoji.replace_emoji(text,'')\n",
    "    text = contractions.fix(text)\n",
    "    text = text.lower()\n",
    "    text = tp.normalize.whitespace(text)\n",
    "\n",
    "    \n",
    "    return text"
   ]
  },
  {
   "cell_type": "code",
   "execution_count": 34,
   "id": "49a8e6cf",
   "metadata": {},
   "outputs": [],
   "source": [
    "x_filtered = [text_preprocess(sentence) for sentence in x]"
   ]
  },
  {
   "cell_type": "code",
   "execution_count": 35,
   "id": "a8bed7ea",
   "metadata": {},
   "outputs": [
    {
     "data": {
      "text/plain": [
       "['Go until jurong point, crazy.. Available only in bugis n great world la e buffet... Cine there got amore wat...',\n",
       " 'Ok lar... Joking wif u oni...',\n",
       " \"Free entry in 2 a wkly comp to win FA Cup final tkts 21st May 2005. Text FA to 87121 to receive entry question(std txt rate)T&C's apply 08452810075over18's\",\n",
       " 'U dun say so early hor... U c already then say...',\n",
       " \"Nah I don't think he goes to usf, he lives around here though\"]"
      ]
     },
     "execution_count": 35,
     "metadata": {},
     "output_type": "execute_result"
    }
   ],
   "source": [
    "x[0:5]"
   ]
  },
  {
   "cell_type": "code",
   "execution_count": 36,
   "id": "6687bc93",
   "metadata": {},
   "outputs": [
    {
     "data": {
      "text/plain": [
       "['go until jurong point crazy available only in bugis n great world la e buffet cine there got amore wat',\n",
       " 'ok lar joking wif you oni',\n",
       " 'free entry in a wkly comp to win fa cup final tkts 21st may text fa to to receive entry questionstd txt ratetcs apply 08452810075over18s',\n",
       " 'you dun say so early hor you c already then say',\n",
       " 'nah i do not think he goes to usf he lives around here though']"
      ]
     },
     "execution_count": 36,
     "metadata": {},
     "output_type": "execute_result"
    }
   ],
   "source": [
    "x_filtered[0:5]"
   ]
  },
  {
   "cell_type": "markdown",
   "id": "bf28a756",
   "metadata": {},
   "source": [
    "### Tokenization"
   ]
  },
  {
   "cell_type": "code",
   "execution_count": 37,
   "id": "ea7fcaf5",
   "metadata": {},
   "outputs": [],
   "source": [
    "x_tokenized = [word_tokenize(sentence) for sentence in x_filtered]"
   ]
  },
  {
   "cell_type": "code",
   "execution_count": 38,
   "id": "d029d47f",
   "metadata": {},
   "outputs": [
    {
     "data": {
      "text/plain": [
       "[['go',\n",
       "  'until',\n",
       "  'jurong',\n",
       "  'point',\n",
       "  'crazy',\n",
       "  'available',\n",
       "  'only',\n",
       "  'in',\n",
       "  'bugis',\n",
       "  'n',\n",
       "  'great',\n",
       "  'world',\n",
       "  'la',\n",
       "  'e',\n",
       "  'buffet',\n",
       "  'cine',\n",
       "  'there',\n",
       "  'got',\n",
       "  'amore',\n",
       "  'wat']]"
      ]
     },
     "execution_count": 38,
     "metadata": {},
     "output_type": "execute_result"
    }
   ],
   "source": [
    "x_tokenized[0:1]"
   ]
  },
  {
   "cell_type": "markdown",
   "id": "0f42fdce",
   "metadata": {},
   "source": [
    "### Train Test split"
   ]
  },
  {
   "cell_type": "code",
   "execution_count": 39,
   "id": "7198dea8",
   "metadata": {},
   "outputs": [],
   "source": [
    "x_train, x_test, y_train, y_test = train_test_split(x_filtered,y, test_size=0.2, random_state=42)"
   ]
  },
  {
   "cell_type": "code",
   "execution_count": 40,
   "id": "420ec4d9",
   "metadata": {},
   "outputs": [
    {
     "data": {
      "text/plain": [
       "['reply to win weekly where will the fifa world cup be held send stop to to end service',\n",
       " 'hello sort of out in town already that so do not rush home i am eating nachos will let you know eta',\n",
       " 'how come guoyang go n tell her then you told her',\n",
       " 'hey sathya till now we dint meet not even a single time then how can i saw the situation sathya',\n",
       " 'orange brings you ringtones from all time chart heroes with a free hit each week go to ringtones pics on wap to stop receiving these tips reply stop']"
      ]
     },
     "execution_count": 40,
     "metadata": {},
     "output_type": "execute_result"
    }
   ],
   "source": [
    "x_train[0:5]"
   ]
  },
  {
   "cell_type": "code",
   "execution_count": 41,
   "id": "bab7419e",
   "metadata": {},
   "outputs": [
    {
     "data": {
      "text/plain": [
       "['squeeeeeze this is christmas hug if you lik my frndshp den hug me back if you get you r cute you r luvd you r so lucky none people hate you',\n",
       " 'and also i have sorta blown him off a couple times recently so id rather not text him out of the blue looking for weed',\n",
       " 'mmm that is better now i got a roast down me i\\x92d b better if i had a few drinks down me good indian',\n",
       " 'mm have some kanji do not eat anything heavy ok',\n",
       " 'so there is a ring that comes with the guys costumes its there so they can gift their future yowifes hint hint']"
      ]
     },
     "execution_count": 41,
     "metadata": {},
     "output_type": "execute_result"
    }
   ],
   "source": [
    "x_test[0:5]"
   ]
  },
  {
   "cell_type": "code",
   "execution_count": 42,
   "id": "76978056",
   "metadata": {},
   "outputs": [
    {
     "data": {
      "text/plain": [
       "['spam', 'ham', 'ham', 'ham', 'spam']"
      ]
     },
     "execution_count": 42,
     "metadata": {},
     "output_type": "execute_result"
    }
   ],
   "source": [
    "y_train[0:5]"
   ]
  },
  {
   "cell_type": "code",
   "execution_count": 43,
   "id": "873a0224",
   "metadata": {},
   "outputs": [
    {
     "data": {
      "text/plain": [
       "['ham', 'ham', 'ham', 'ham', 'ham']"
      ]
     },
     "execution_count": 43,
     "metadata": {},
     "output_type": "execute_result"
    }
   ],
   "source": [
    "y_test[0:5]"
   ]
  },
  {
   "cell_type": "code",
   "execution_count": 44,
   "id": "40d31aac",
   "metadata": {},
   "outputs": [
    {
     "data": {
      "text/plain": [
       "(4457, 4457, 1115, 1115)"
      ]
     },
     "execution_count": 44,
     "metadata": {},
     "output_type": "execute_result"
    }
   ],
   "source": [
    "len(x_train), len(y_train), len(x_test), len(y_test)"
   ]
  },
  {
   "cell_type": "markdown",
   "id": "be61032e",
   "metadata": {},
   "source": [
    "## Bag of words"
   ]
  },
  {
   "cell_type": "code",
   "execution_count": 45,
   "id": "045f260e",
   "metadata": {},
   "outputs": [
    {
     "data": {
      "image/png": "[encoded data removed]",
      "text/plain": [
       "<Figure size 640x480 with 2 Axes>"
      ]
     },
     "metadata": {},
     "output_type": "display_data"
    }
   ],
   "source": [
    "\n",
    "results = {}\n",
    "\n",
    "# BOW vectorizer\n",
    "\n",
    "bow_vectorizer = CountVectorizer(token_pattern=r\"(?u)\\b\\w+\\b\")\n",
    "x_train_bow = bow_vectorizer.fit_transform(x_train)\n",
    "x_test_bow = bow_vectorizer.transform(x_test)\n",
    "\n",
    "# SVM Classifier\n",
    "\n",
    "clf_bow = LinearSVC()\n",
    "clf_bow.fit(x_train_bow, y_train)\n",
    "pred_bow = clf_bow.predict(x_test_bow)\n",
    "\n",
    "\n",
    "# Accuracy\n",
    "\n",
    "results[\"Bag of Words\"] = accuracy_score(y_test, pred_bow)\n",
    "\n",
    "# Normalized Confusion Matrix\n",
    "cm_bow = confusion_matrix(y_test, pred_bow, normalize='true')  # Normalize by true labels (rows)\n",
    "disp = ConfusionMatrixDisplay(confusion_matrix=cm_bow, display_labels=clf_bow.classes_)\n",
    "\n",
    "# Plot\n",
    "disp.plot(cmap='Blues', values_format=\".2f\")  # Format values to 2 decimals\n",
    "plt.title(\"Normalized Confusion Matrix - Bag of Words\")\n",
    "plt.show()"
   ]
  },
  {
   "cell_type": "code",
   "execution_count": 46,
   "id": "0868de1b",
   "metadata": {},
   "outputs": [
    {
     "data": {
      "text/plain": [
       "0.9838565022421525"
      ]
     },
     "execution_count": 46,
     "metadata": {},
     "output_type": "execute_result"
    }
   ],
   "source": [
    "results[\"Bag of Words\"]"
   ]
  },
  {
   "cell_type": "markdown",
   "id": "5ac224c6",
   "metadata": {},
   "source": [
    "## N-gram (Unigram + bigram + trigram)"
   ]
  },
  {
   "cell_type": "code",
   "execution_count": 47,
   "id": "2c5e68c3",
   "metadata": {},
   "outputs": [
    {
     "data": {
      "image/png": "[encoded data removed]",
      "text/plain": [
       "<Figure size 640x480 with 2 Axes>"
      ]
     },
     "metadata": {},
     "output_type": "display_data"
    }
   ],
   "source": [
    "# N-gram Vectorizer (Unigram + Bigram + Trigram)\n",
    "\n",
    "ngram_vectorizer = CountVectorizer(ngram_range=(1, 3), token_pattern=r\"(?u)\\b\\w+\\b\")\n",
    "x_train_ngram = ngram_vectorizer.fit_transform(x_train)\n",
    "x_test_ngram = ngram_vectorizer.transform(x_test)\n",
    "\n",
    "# Naive Bayes Classifier\n",
    "clf_ngram = LinearSVC()\n",
    "clf_ngram.fit(x_train_ngram, y_train)\n",
    "pred_ngram = clf_ngram.predict(x_test_ngram)\n",
    "\n",
    "# Accuracy\n",
    "results[\"N-gram\"] = accuracy_score(y_test, pred_ngram)\n",
    "\n",
    "# Normalized Confusion Matrix\n",
    "cm_ngram = confusion_matrix(y_test, pred_ngram, normalize='true')\n",
    "disp = ConfusionMatrixDisplay(confusion_matrix=cm_ngram, display_labels=clf_ngram.classes_)\n",
    "\n",
    "# Plot\n",
    "disp.plot(cmap='Greens', values_format=\".2f\")\n",
    "plt.title(\"Normalized Confusion Matrix - N-gram (1,3)\")\n",
    "plt.show()"
   ]
  },
  {
   "cell_type": "code",
   "execution_count": 48,
   "id": "3759a925",
   "metadata": {},
   "outputs": [
    {
     "data": {
      "text/plain": [
       "0.9802690582959641"
      ]
     },
     "execution_count": 48,
     "metadata": {},
     "output_type": "execute_result"
    }
   ],
   "source": [
    "results[\"N-gram\"]"
   ]
  },
  {
   "cell_type": "markdown",
   "id": "6d774d1f",
   "metadata": {},
   "source": [
    "## TF-IDF"
   ]
  },
  {
   "cell_type": "code",
   "execution_count": 49,
   "id": "acf1c78a",
   "metadata": {},
   "outputs": [
    {
     "data": {
      "image/png": "[encoded data removed]",
      "text/plain": [
       "<Figure size 640x480 with 2 Axes>"
      ]
     },
     "metadata": {},
     "output_type": "display_data"
    }
   ],
   "source": [
    "\n",
    "# TF-IDF Vectorizer\n",
    "\n",
    "tfidf_vectorizer = TfidfVectorizer(token_pattern=r\"(?u)\\b\\w+\\b\")\n",
    "x_train_tfidf = tfidf_vectorizer.fit_transform(x_train)\n",
    "x_test_tfidf = tfidf_vectorizer.transform(x_test)\n",
    "\n",
    "# Naive Bayes Classifier\n",
    "\n",
    "clf_tfidf = LinearSVC()\n",
    "clf_tfidf.fit(x_train_tfidf, y_train)\n",
    "pred_tfidf = clf_tfidf.predict(x_test_tfidf)\n",
    "\n",
    "# Accuracy\n",
    "\n",
    "results[\"TF-IDF\"] = accuracy_score(y_test, pred_tfidf)\n",
    "\n",
    "# Normalized Confusion Matrix\n",
    "\n",
    "cm_tfidf = confusion_matrix(y_test, pred_tfidf, normalize='true')\n",
    "disp = ConfusionMatrixDisplay(confusion_matrix=cm_tfidf, display_labels=clf_tfidf.classes_)\n",
    "\n",
    "# Plot\n",
    "disp.plot(cmap='Purples', values_format=\".2f\")\n",
    "plt.title(\"Normalized Confusion Matrix - TF-IDF\")\n",
    "plt.show()"
   ]
  },
  {
   "cell_type": "code",
   "execution_count": 50,
   "id": "d98d4269",
   "metadata": {},
   "outputs": [
    {
     "data": {
      "text/plain": [
       "0.9838565022421525"
      ]
     },
     "execution_count": 50,
     "metadata": {},
     "output_type": "execute_result"
    }
   ],
   "source": [
    "results[\"TF-IDF\"]"
   ]
  },
  {
   "cell_type": "markdown",
   "id": "2045394f",
   "metadata": {},
   "source": [
    "## Results comparison"
   ]
  },
  {
   "cell_type": "code",
   "execution_count": 51,
   "id": "4ff500d5",
   "metadata": {},
   "outputs": [
    {
     "name": "stdout",
     "output_type": "stream",
     "text": [
      "Accuracy - Bag of words :  0.9838565022421525\n",
      "Accuracy - N-gram (1,3) :  0.9802690582959641\n",
      "Accuracy - Tf-IDF       :  0.9838565022421525\n"
     ]
    }
   ],
   "source": [
    "print(\"Accuracy - Bag of words : \", results[\"Bag of Words\"])\n",
    "print(\"Accuracy - N-gram (1,3) : \", results[\"N-gram\"])\n",
    "print(\"Accuracy - Tf-IDF       : \", results[\"TF-IDF\"])"
   ]
  },
  {
   "cell_type": "markdown",
   "id": "e7e7c066",
   "metadata": {},
   "source": []
  }
 ],
 "metadata": {
  "kernelspec": {
   "display_name": "nlp_env",
   "language": "python",
   "name": "python3"
  },
  "language_info": {
   "codemirror_mode": {
    "name": "ipython",
    "version": 3
   },
   "file_extension": ".py",
   "mimetype": "text/x-python",
   "name": "python",
   "nbconvert_exporter": "python",
   "pygments_lexer": "ipython3",
   "version": "3.10.18"
  }
 },
 "nbformat": 4,
 "nbformat_minor": 5
}
