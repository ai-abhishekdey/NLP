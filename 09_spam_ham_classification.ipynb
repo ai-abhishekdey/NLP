{
 "cells": [
  {
   "cell_type": "markdown",
   "id": "d2ab65e6",
   "metadata": {},
   "source": [
    "### Sentiment analysis comparison with different vectorization techniques\n",
    "\n",
    "**Author: Abhishek Dey**\n",
    "\n",
    "\n",
    "**Problem Statement:** Considering Naive Bias classifier, compare the performance with BOW, N-Gram and TDF vectorization techniques on sentiment analysis task"
   ]
  },
  {
   "cell_type": "markdown",
   "id": "9f0dfd85",
   "metadata": {},
   "source": [
    "### Import Libraries"
   ]
  },
  {
   "cell_type": "code",
   "execution_count": 22,
   "id": "3aa9da4e",
   "metadata": {},
   "outputs": [
    {
     "name": "stderr",
     "output_type": "stream",
     "text": [
      "[nltk_data] Downloading package punkt to /home/abhishek/nltk_data...\n",
      "[nltk_data]   Package punkt is already up-to-date!\n",
      "[nltk_data] Downloading package punkt_tab to\n",
      "[nltk_data]     /home/abhishek/nltk_data...\n",
      "[nltk_data]   Package punkt_tab is already up-to-date!\n",
      "[nltk_data] Downloading package stopwords to\n",
      "[nltk_data]     /home/abhishek/nltk_data...\n",
      "[nltk_data]   Package stopwords is already up-to-date!\n"
     ]
    }
   ],
   "source": [
    "# text preprocessing\n",
    "\n",
    "from textacy import preprocessing as tp\n",
    "import emoji\n",
    "import contractions\n",
    "import string\n",
    "\n",
    "# tokenization & stop words\n",
    "\n",
    "import nltk\n",
    "from nltk import sent_tokenize, word_tokenize\n",
    "from nltk.corpus import stopwords\n",
    "nltk.download('punkt')\n",
    "nltk.download('punkt_tab')\n",
    "nltk.download('stopwords')\n",
    "\n",
    "# BOW, N-gram, TF-IDF\n",
    "\n",
    "import pandas as pd\n",
    "from sklearn.feature_extraction.text import CountVectorizer, TfidfVectorizer\n",
    "\n",
    "# Naive Bias Classifier\n",
    "\n",
    "from sklearn.naive_bayes import MultinomialNB\n",
    "\n",
    "# Train - Test split\n",
    "\n",
    "from sklearn.model_selection import train_test_split\n",
    "\n",
    "# Scoring Metric\n",
    "\n",
    "from sklearn.metrics import accuracy_score\n",
    "from sklearn.metrics import confusion_matrix, ConfusionMatrixDisplay\n",
    "\n",
    "# Matplotlib\n",
    "\n",
    "import matplotlib.pyplot as plt\n"
   ]
  },
  {
   "cell_type": "markdown",
   "id": "13e32329",
   "metadata": {},
   "source": [
    "### Load data"
   ]
  },
  {
   "cell_type": "code",
   "execution_count": 2,
   "id": "76b50d02",
   "metadata": {},
   "outputs": [
    {
     "data": {
      "text/html": [
       "<div>\n",
       "<style scoped>\n",
       "    .dataframe tbody tr th:only-of-type {\n",
       "        vertical-align: middle;\n",
       "    }\n",
       "\n",
       "    .dataframe tbody tr th {\n",
       "        vertical-align: top;\n",
       "    }\n",
       "\n",
       "    .dataframe thead th {\n",
       "        text-align: right;\n",
       "    }\n",
       "</style>\n",
       "<table border=\"1\" class=\"dataframe\">\n",
       "  <thead>\n",
       "    <tr style=\"text-align: right;\">\n",
       "      <th></th>\n",
       "      <th>message</th>\n",
       "      <th>sentiment</th>\n",
       "    </tr>\n",
       "  </thead>\n",
       "  <tbody>\n",
       "    <tr>\n",
       "      <th>0</th>\n",
       "      <td>I really enjoyed the movie</td>\n",
       "      <td>positive</td>\n",
       "    </tr>\n",
       "    <tr>\n",
       "      <th>1</th>\n",
       "      <td>The food was terrible</td>\n",
       "      <td>negative</td>\n",
       "    </tr>\n",
       "    <tr>\n",
       "      <th>2</th>\n",
       "      <td>I'm not sure how I feel about this</td>\n",
       "      <td>neutral</td>\n",
       "    </tr>\n",
       "    <tr>\n",
       "      <th>3</th>\n",
       "      <td>The service was excellent</td>\n",
       "      <td>positive</td>\n",
       "    </tr>\n",
       "    <tr>\n",
       "      <th>4</th>\n",
       "      <td>I had a bad experience</td>\n",
       "      <td>negative</td>\n",
       "    </tr>\n",
       "  </tbody>\n",
       "</table>\n",
       "</div>"
      ],
      "text/plain": [
       "                              message sentiment\n",
       "0          I really enjoyed the movie  positive\n",
       "1               The food was terrible  negative\n",
       "2  I'm not sure how I feel about this   neutral\n",
       "3           The service was excellent  positive\n",
       "4              I had a bad experience  negative"
      ]
     },
     "execution_count": 2,
     "metadata": {},
     "output_type": "execute_result"
    }
   ],
   "source": [
    "data=pd.read_csv('datasets/chat_dataset.csv')\n",
    "\n",
    "data.head()"
   ]
  },
  {
   "cell_type": "code",
   "execution_count": 3,
   "id": "d5162460",
   "metadata": {},
   "outputs": [
    {
     "data": {
      "text/plain": [
       "(584, 2)"
      ]
     },
     "execution_count": 3,
     "metadata": {},
     "output_type": "execute_result"
    }
   ],
   "source": [
    "data.shape"
   ]
  },
  {
   "cell_type": "code",
   "execution_count": 4,
   "id": "d3bc1e54",
   "metadata": {},
   "outputs": [],
   "source": [
    "x=list(data['message'])\n",
    "y=list(data['sentiment'])"
   ]
  },
  {
   "cell_type": "code",
   "execution_count": 5,
   "id": "fddb4f56",
   "metadata": {},
   "outputs": [
    {
     "data": {
      "text/plain": [
       "['I really enjoyed the movie',\n",
       " 'The food was terrible',\n",
       " \"I'm not sure how I feel about this\",\n",
       " 'The service was excellent',\n",
       " 'I had a bad experience']"
      ]
     },
     "execution_count": 5,
     "metadata": {},
     "output_type": "execute_result"
    }
   ],
   "source": [
    "x[0:5]"
   ]
  },
  {
   "cell_type": "code",
   "execution_count": 6,
   "id": "1441b969",
   "metadata": {},
   "outputs": [
    {
     "data": {
      "text/plain": [
       "['positive', 'negative', 'neutral', 'positive', 'negative']"
      ]
     },
     "execution_count": 6,
     "metadata": {},
     "output_type": "execute_result"
    }
   ],
   "source": [
    "y[0:5]"
   ]
  },
  {
   "cell_type": "markdown",
   "id": "5eba2368",
   "metadata": {},
   "source": [
    "### Text preprocessing"
   ]
  },
  {
   "cell_type": "code",
   "execution_count": 7,
   "id": "5a531075",
   "metadata": {},
   "outputs": [],
   "source": [
    "def text_preprocess(text):\n",
    "    \n",
    "    \n",
    "    text = tp.remove.html_tags(text)\n",
    "    text = tp.replace.urls(text,'')\n",
    "    text = tp.replace.currency_symbols(text,'')\n",
    "    text = tp.replace.emails(text,'')\n",
    "    text = tp.replace.phone_numbers(text,'*')\n",
    "    text = tp.replace.hashtags(text,'')\n",
    "    text = tp.replace.numbers(text,'*')\n",
    "    text = text.translate(str.maketrans(\"\",\"\",string.punctuation))\n",
    "    text = emoji.replace_emoji(text,'')\n",
    "    text = contractions.fix(text)\n",
    "    text = text.lower()\n",
    "    text = tp.normalize.whitespace(text)\n",
    "\n",
    "    \n",
    "    return text"
   ]
  },
  {
   "cell_type": "code",
   "execution_count": 8,
   "id": "49a8e6cf",
   "metadata": {},
   "outputs": [],
   "source": [
    "x_filtered = [text_preprocess(sentence) for sentence in x]"
   ]
  },
  {
   "cell_type": "code",
   "execution_count": 9,
   "id": "a8bed7ea",
   "metadata": {},
   "outputs": [
    {
     "data": {
      "text/plain": [
       "['I really enjoyed the movie',\n",
       " 'The food was terrible',\n",
       " \"I'm not sure how I feel about this\",\n",
       " 'The service was excellent',\n",
       " 'I had a bad experience']"
      ]
     },
     "execution_count": 9,
     "metadata": {},
     "output_type": "execute_result"
    }
   ],
   "source": [
    "x[0:5]"
   ]
  },
  {
   "cell_type": "code",
   "execution_count": 10,
   "id": "6687bc93",
   "metadata": {},
   "outputs": [
    {
     "data": {
      "text/plain": [
       "['i really enjoyed the movie',\n",
       " 'the food was terrible',\n",
       " 'i am not sure how i feel about this',\n",
       " 'the service was excellent',\n",
       " 'i had a bad experience']"
      ]
     },
     "execution_count": 10,
     "metadata": {},
     "output_type": "execute_result"
    }
   ],
   "source": [
    "x_filtered[0:5]"
   ]
  },
  {
   "cell_type": "markdown",
   "id": "bf28a756",
   "metadata": {},
   "source": [
    "### Tokenization"
   ]
  },
  {
   "cell_type": "code",
   "execution_count": 11,
   "id": "ea7fcaf5",
   "metadata": {},
   "outputs": [],
   "source": [
    "x_tokenized = [word_tokenize(sentence) for sentence in x_filtered]"
   ]
  },
  {
   "cell_type": "code",
   "execution_count": 12,
   "id": "d029d47f",
   "metadata": {},
   "outputs": [
    {
     "data": {
      "text/plain": [
       "[['i', 'really', 'enjoyed', 'the', 'movie'],\n",
       " ['the', 'food', 'was', 'terrible'],\n",
       " ['i', 'am', 'not', 'sure', 'how', 'i', 'feel', 'about', 'this'],\n",
       " ['the', 'service', 'was', 'excellent'],\n",
       " ['i', 'had', 'a', 'bad', 'experience']]"
      ]
     },
     "execution_count": 12,
     "metadata": {},
     "output_type": "execute_result"
    }
   ],
   "source": [
    "x_tokenized[0:5]"
   ]
  },
  {
   "cell_type": "markdown",
   "id": "0f42fdce",
   "metadata": {},
   "source": [
    "### Train Test split"
   ]
  },
  {
   "cell_type": "code",
   "execution_count": 13,
   "id": "7198dea8",
   "metadata": {},
   "outputs": [],
   "source": [
    "x_train, x_test, y_train, y_test = train_test_split(x_filtered,y, test_size=0.2, random_state=42)"
   ]
  },
  {
   "cell_type": "code",
   "execution_count": 14,
   "id": "420ec4d9",
   "metadata": {},
   "outputs": [
    {
     "data": {
      "text/plain": [
       "['the book was amazing',\n",
       " 'i am loving this new hobby i picked up',\n",
       " 'the hike was average',\n",
       " 'this movie was average',\n",
       " 'i had the best vacation ever']"
      ]
     },
     "execution_count": 14,
     "metadata": {},
     "output_type": "execute_result"
    }
   ],
   "source": [
    "x_train[0:5]"
   ]
  },
  {
   "cell_type": "code",
   "execution_count": 15,
   "id": "bab7419e",
   "metadata": {},
   "outputs": [
    {
     "data": {
      "text/plain": [
       "['i am just taking it one day at a time',\n",
       " 'i am feeling so happy today',\n",
       " 'the beach was peaceful',\n",
       " 'i love seeing my friends and catching up with them',\n",
       " 'i just got into a car accident and my car is totaled']"
      ]
     },
     "execution_count": 15,
     "metadata": {},
     "output_type": "execute_result"
    }
   ],
   "source": [
    "x_test[0:5]"
   ]
  },
  {
   "cell_type": "code",
   "execution_count": 16,
   "id": "76978056",
   "metadata": {},
   "outputs": [
    {
     "data": {
      "text/plain": [
       "['positive', 'positive', 'neutral', 'neutral', 'positive']"
      ]
     },
     "execution_count": 16,
     "metadata": {},
     "output_type": "execute_result"
    }
   ],
   "source": [
    "y_train[0:5]"
   ]
  },
  {
   "cell_type": "code",
   "execution_count": 17,
   "id": "873a0224",
   "metadata": {},
   "outputs": [
    {
     "data": {
      "text/plain": [
       "['neutral', 'positive', 'positive', 'positive', 'negative']"
      ]
     },
     "execution_count": 17,
     "metadata": {},
     "output_type": "execute_result"
    }
   ],
   "source": [
    "y_test[0:5]"
   ]
  },
  {
   "cell_type": "code",
   "execution_count": 18,
   "id": "40d31aac",
   "metadata": {},
   "outputs": [
    {
     "data": {
      "text/plain": [
       "(467, 467, 117, 117)"
      ]
     },
     "execution_count": 18,
     "metadata": {},
     "output_type": "execute_result"
    }
   ],
   "source": [
    "len(x_train), len(y_train), len(x_test), len(y_test)"
   ]
  },
  {
   "cell_type": "markdown",
   "id": "be61032e",
   "metadata": {},
   "source": [
    "## Bag of words"
   ]
  },
  {
   "cell_type": "code",
   "execution_count": 29,
   "id": "045f260e",
   "metadata": {},
   "outputs": [
    {
     "data": {
      "image/png": "[encoded data removed]",
      "text/plain": [
       "<Figure size 640x480 with 2 Axes>"
      ]
     },
     "metadata": {},
     "output_type": "display_data"
    }
   ],
   "source": [
    "\n",
    "results = {}\n",
    "\n",
    "# BOW vectorizer\n",
    "\n",
    "bow_vectorizer = CountVectorizer(token_pattern=r\"(?u)\\b\\w+\\b\")\n",
    "x_train_bow = bow_vectorizer.fit_transform(x_train)\n",
    "x_test_bow = bow_vectorizer.transform(x_test)\n",
    "\n",
    "# Naive Bias Classifier\n",
    "\n",
    "clf_bow = MultinomialNB()\n",
    "clf_bow.fit(x_train_bow, y_train)\n",
    "pred_bow = clf_bow.predict(x_test_bow)\n",
    "\n",
    "\n",
    "# Accuracy\n",
    "\n",
    "results[\"Bag of Words\"] = accuracy_score(y_test, pred_bow)\n",
    "\n",
    "# Normalized Confusion Matrix\n",
    "cm_bow = confusion_matrix(y_test, pred_bow, normalize='true')  # Normalize by true labels (rows)\n",
    "disp = ConfusionMatrixDisplay(confusion_matrix=cm_bow, display_labels=clf_bow.classes_)\n",
    "\n",
    "# Plot\n",
    "disp.plot(cmap='Blues', values_format=\".2f\")  # Format values to 2 decimals\n",
    "plt.title(\"Normalized Confusion Matrix - Bag of Words\")\n",
    "plt.show()"
   ]
  },
  {
   "cell_type": "code",
   "execution_count": 30,
   "id": "0868de1b",
   "metadata": {},
   "outputs": [
    {
     "data": {
      "text/plain": [
       "0.8034188034188035"
      ]
     },
     "execution_count": 30,
     "metadata": {},
     "output_type": "execute_result"
    }
   ],
   "source": [
    "results[\"Bag of Words\"]"
   ]
  },
  {
   "cell_type": "markdown",
   "id": "5ac224c6",
   "metadata": {},
   "source": [
    "## N-gram (Unigram + bigram + trigram)"
   ]
  },
  {
   "cell_type": "code",
   "execution_count": 35,
   "id": "2c5e68c3",
   "metadata": {},
   "outputs": [
    {
     "data": {
      "image/png": "[encoded data removed]",
      "text/plain": [
       "<Figure size 640x480 with 2 Axes>"
      ]
     },
     "metadata": {},
     "output_type": "display_data"
    }
   ],
   "source": [
    "# N-gram Vectorizer (Unigram + Bigram + Trigram)\n",
    "\n",
    "ngram_vectorizer = CountVectorizer(ngram_range=(1, 3), token_pattern=r\"(?u)\\b\\w+\\b\")\n",
    "x_train_ngram = ngram_vectorizer.fit_transform(x_train)\n",
    "x_test_ngram = ngram_vectorizer.transform(x_test)\n",
    "\n",
    "# Naive Bayes Classifier\n",
    "clf_ngram = MultinomialNB()\n",
    "clf_ngram.fit(x_train_ngram, y_train)\n",
    "pred_ngram = clf_ngram.predict(x_test_ngram)\n",
    "\n",
    "# Accuracy\n",
    "results[\"N-gram\"] = accuracy_score(y_test, pred_ngram)\n",
    "\n",
    "# Normalized Confusion Matrix\n",
    "cm_ngram = confusion_matrix(y_test, pred_ngram, normalize='true')\n",
    "disp = ConfusionMatrixDisplay(confusion_matrix=cm_ngram, display_labels=clf_ngram.classes_)\n",
    "\n",
    "# Plot\n",
    "disp.plot(cmap='Greens', values_format=\".2f\")\n",
    "plt.title(\"Normalized Confusion Matrix - N-gram (1,3)\")\n",
    "plt.show()"
   ]
  },
  {
   "cell_type": "code",
   "execution_count": 36,
   "id": "3759a925",
   "metadata": {},
   "outputs": [
    {
     "data": {
      "text/plain": [
       "0.8205128205128205"
      ]
     },
     "execution_count": 36,
     "metadata": {},
     "output_type": "execute_result"
    }
   ],
   "source": [
    "results[\"N-gram\"]"
   ]
  },
  {
   "cell_type": "markdown",
   "id": "6d774d1f",
   "metadata": {},
   "source": [
    "## TF-IDF"
   ]
  },
  {
   "cell_type": "code",
   "execution_count": 31,
   "id": "acf1c78a",
   "metadata": {},
   "outputs": [
    {
     "data": {
      "image/png": "[encoded data removed]",
      "text/plain": [
       "<Figure size 640x480 with 2 Axes>"
      ]
     },
     "metadata": {},
     "output_type": "display_data"
    }
   ],
   "source": [
    "\n",
    "# TF-IDF Vectorizer\n",
    "\n",
    "tfidf_vectorizer = TfidfVectorizer(token_pattern=r\"(?u)\\b\\w+\\b\")\n",
    "x_train_tfidf = tfidf_vectorizer.fit_transform(x_train)\n",
    "x_test_tfidf = tfidf_vectorizer.transform(x_test)\n",
    "\n",
    "# Naive Bayes Classifier\n",
    "\n",
    "clf_tfidf = MultinomialNB()\n",
    "clf_tfidf.fit(x_train_tfidf, y_train)\n",
    "pred_tfidf = clf_tfidf.predict(x_test_tfidf)\n",
    "\n",
    "# Accuracy\n",
    "\n",
    "results[\"TF-IDF\"] = accuracy_score(y_test, pred_tfidf)\n",
    "\n",
    "# Normalized Confusion Matrix\n",
    "\n",
    "cm_tfidf = confusion_matrix(y_test, pred_tfidf, normalize='true')\n",
    "disp = ConfusionMatrixDisplay(confusion_matrix=cm_tfidf, display_labels=clf_tfidf.classes_)\n",
    "\n",
    "# Plot\n",
    "disp.plot(cmap='Purples', values_format=\".2f\")\n",
    "plt.title(\"Normalized Confusion Matrix - TF-IDF\")\n",
    "plt.show()"
   ]
  },
  {
   "cell_type": "code",
   "execution_count": 32,
   "id": "d98d4269",
   "metadata": {},
   "outputs": [
    {
     "data": {
      "text/plain": [
       "0.7435897435897436"
      ]
     },
     "execution_count": 32,
     "metadata": {},
     "output_type": "execute_result"
    }
   ],
   "source": [
    "results[\"TF-IDF\"]"
   ]
  },
  {
   "cell_type": "markdown",
   "id": "2045394f",
   "metadata": {},
   "source": [
    "## Results comparison"
   ]
  },
  {
   "cell_type": "code",
   "execution_count": 37,
   "id": "4ff500d5",
   "metadata": {},
   "outputs": [
    {
     "name": "stdout",
     "output_type": "stream",
     "text": [
      "Accuracy - Bag of words :  0.8034188034188035\n",
      "Accuracy - N-gram (1,3) :  0.8205128205128205\n",
      "Accuracy - Tf-IDF       :  0.7435897435897436\n"
     ]
    }
   ],
   "source": [
    "print(\"Accuracy - Bag of words : \", results[\"Bag of Words\"])\n",
    "print(\"Accuracy - N-gram (1,3) : \", results[\"N-gram\"])\n",
    "print(\"Accuracy - Tf-IDF       : \", results[\"TF-IDF\"])"
   ]
  },
  {
   "cell_type": "markdown",
   "id": "e7e7c066",
   "metadata": {},
   "source": []
  }
 ],
 "metadata": {
  "kernelspec": {
   "display_name": "nlp_env",
   "language": "python",
   "name": "python3"
  },
  "language_info": {
   "codemirror_mode": {
    "name": "ipython",
    "version": 3
   },
   "file_extension": ".py",
   "mimetype": "text/x-python",
   "name": "python",
   "nbconvert_exporter": "python",
   "pygments_lexer": "ipython3",
   "version": "3.10.18"
  }
 },
 "nbformat": 4,
 "nbformat_minor": 5
}
